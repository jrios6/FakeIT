{
 "cells": [
  {
   "cell_type": "code",
   "execution_count": 1,
   "metadata": {},
   "outputs": [],
   "source": [
    "import numpy as np\n",
    "import pandas as pd\n",
    "from ngram_modeling import MarkovChain"
   ]
  },
  {
   "cell_type": "code",
   "execution_count": 2,
   "metadata": {},
   "outputs": [],
   "source": [
    "# Load data and convert it to numpy array\n",
    "data = pd.read_csv('news_cleaned.csv', header=None, na_values=['.'], encoding='latin-1')\n",
    "data = np.array(data)\n",
    "\n",
    "# Flatten it so we got array of strings\n",
    "data = data.flatten()\n",
    "\n",
    "# Concatenate the articles\n",
    "data = ' '.join(data)\n",
    "\n",
    "# Set the grams and designated text size\n",
    "n_grams = 5\n",
    "text_size = 200\n",
    "\n",
    "# Instantiate markov chain and generate text\n",
    "markov = MarkovChain(data, n_grams, text_size)"
   ]
  },
  {
   "cell_type": "code",
   "execution_count": 122,
   "metadata": {},
   "outputs": [
    {
     "name": "stdout",
     "output_type": "stream",
     "text": [
      "bailey circus is shutting down  after dwindling attendance and\n"
     ]
    }
   ],
   "source": [
    "output = markov.generateText()\n",
    "output_parts = output.split(' ')[:10]\n",
    "headline = (' ').join(output_parts)\n",
    "print(headline)"
   ]
  },
  {
   "cell_type": "code",
   "execution_count": 118,
   "metadata": {},
   "outputs": [],
   "source": [
    "%matplotlib inline\n",
    "import matplotlib.pyplot as plt\n",
    "from urllib.parse import urlencode\n",
    "from urllib.request import Request, urlopen\n",
    "import json\n",
    "import numpy as np\n",
    "import pandas as pd"
   ]
  },
  {
   "cell_type": "code",
   "execution_count": 119,
   "metadata": {},
   "outputs": [],
   "source": [
    "api_url = 'http://localhost:8080/fakebox/check' # Set destination URL here"
   ]
  },
  {
   "cell_type": "code",
   "execution_count": 120,
   "metadata": {},
   "outputs": [],
   "source": [
    "def get_json_str(title, content=None, url=None):\n",
    "    if content and url:\n",
    "        post_fields = {'title': title, 'content': content, 'url': url}     # Set POST fields here\n",
    "    elif content:\n",
    "        post_fields = {'title': title, 'content': content}     # Set POST fields here\n",
    "    else:\n",
    "        post_fields = {'title': title}\n",
    "    request = Request(api_url, urlencode(post_fields).encode())\n",
    "    json_str = urlopen(request).read().decode()\n",
    "    return json_str"
   ]
  },
  {
   "cell_type": "code",
   "execution_count": 121,
   "metadata": {},
   "outputs": [],
   "source": [
    "def parse_json_str(json_str, content=None, url=None):\n",
    "    json_data = json.loads(json_str)\n",
    "    title_fake_score = json_data['title']['score']\n",
    "    title_pred_type = json_data['title']['decision']\n",
    "    if content:\n",
    "        content_fake_score = json_data['content']['score']\n",
    "        content_pred_type = json_data['content']['decision']\n",
    "    else:\n",
    "        content_fake_score = 0\n",
    "        content_pred_type = 0\n",
    "    if url:\n",
    "        domain_type = json_data['domain']['category']\n",
    "    else:\n",
    "        domain_type = None\n",
    "    return title_fake_score, title_pred_type, content_fake_score, content_pred_type, domain_type"
   ]
  },
  {
   "cell_type": "code",
   "execution_count": 250,
   "metadata": {},
   "outputs": [
    {
     "name": "stdout",
     "output_type": "stream",
     "text": [
      "0.9542144536972046\n",
      "former turkish minister for european union affairs in one email in 2013  mr alptekin\n"
     ]
    }
   ],
   "source": [
    "title_fake_score = 0\n",
    "while title_fake_score < 0.94:\n",
    "    output = markov.generateText()\n",
    "    output_parts = output.split(' ')[:15]\n",
    "    headline = (' ').join(output_parts)\n",
    "    title = headline\n",
    "    json_str = get_json_str(title)\n",
    "    title_fake_score, title_pred_type, content_fake_score, content_pred_type, domain_type = parse_json_str(json_str)\n",
    "\n",
    "print(title_fake_score)\n",
    "print(title)"
   ]
  },
  {
   "cell_type": "code",
   "execution_count": 124,
   "metadata": {},
   "outputs": [
    {
     "data": {
      "text/plain": [
       "0.48547863960266113"
      ]
     },
     "execution_count": 124,
     "metadata": {},
     "output_type": "execute_result"
    }
   ],
   "source": [
    "title_fake_score"
   ]
  },
  {
   "cell_type": "code",
   "execution_count": 251,
   "metadata": {},
   "outputs": [],
   "source": [
    "import pickle\n",
    "filename = 'headline_generator.pkl'\n",
    "with open(filename, 'wb') as f:\n",
    "    pickle.dump([markov], f)"
   ]
  },
  {
   "cell_type": "code",
   "execution_count": 257,
   "metadata": {},
   "outputs": [],
   "source": [
    "filename = 'headline_generator.pkl'\n",
    "with open(filename, 'rb') as f:\n",
    "    markov_test = pickle.load(f)[0]"
   ]
  },
  {
   "cell_type": "code",
   "execution_count": 262,
   "metadata": {},
   "outputs": [],
   "source": [
    "def generate_fake_headlines(markov, n):\n",
    "    \n",
    "    api_url = 'http://localhost:8080/fakebox/check' # Set destination URL here\n",
    "    def get_json_str(title, content=None, url=None):\n",
    "        if content and url:\n",
    "            post_fields = {'title': title, 'content': content, 'url': url}     # Set POST fields here\n",
    "        elif content:\n",
    "            post_fields = {'title': title, 'content': content}     # Set POST fields here\n",
    "        else:\n",
    "            post_fields = {'title': title}\n",
    "        request = Request(api_url, urlencode(post_fields).encode())\n",
    "        json_str = urlopen(request).read().decode()\n",
    "        return json_str\n",
    "    def parse_json_str(json_str, content=None, url=None):\n",
    "        json_data = json.loads(json_str)\n",
    "        title_fake_score = json_data['title']['score']\n",
    "        title_pred_type = json_data['title']['decision']\n",
    "        if content:\n",
    "            content_fake_score = json_data['content']['score']\n",
    "            content_pred_type = json_data['content']['decision']\n",
    "        else:\n",
    "            content_fake_score = 0\n",
    "            content_pred_type = 0\n",
    "        if url:\n",
    "            domain_type = json_data['domain']['category']\n",
    "        else:\n",
    "            domain_type = None\n",
    "        return title_fake_score, title_pred_type, content_fake_score, content_pred_type, domain_type\n",
    "    \n",
    "    def generate_one_headline():\n",
    "        title_fake_score = 0\n",
    "        while title_fake_score < 0.94:\n",
    "            output = markov.generateText()\n",
    "            output_parts = output.split(' ')[:15]\n",
    "            headline = (' ').join(output_parts)\n",
    "            title = headline\n",
    "            json_str = get_json_str(title)\n",
    "            title_fake_score, title_pred_type, content_fake_score, content_pred_type, domain_type = parse_json_str(json_str)\n",
    "        return title\n",
    "    headlines = []\n",
    "    for _ in range(n):\n",
    "        headlines.append(generate_one_headline())\n",
    "    return headlines"
   ]
  },
  {
   "cell_type": "code",
   "execution_count": 263,
   "metadata": {},
   "outputs": [],
   "source": [
    "headlines = generate_fake_headlines(markov_test, n=10)"
   ]
  },
  {
   "cell_type": "code",
   "execution_count": 264,
   "metadata": {},
   "outputs": [
    {
     "data": {
      "text/plain": [
       "['nearly 500  000 in political contributions from gov terry mcauliffe  a key ally',\n",
       " 'wednesday  seven people were killed in northwestern pakistan in two suicide bombings  one',\n",
       " 'unemployment rate  at 4 8 percent in january  is in a range fed',\n",
       " 'valeant reported a 2 4 billion loss last monday  mr ackman had had enough',\n",
       " 'bronx  42 percent of those interacting queens and 31 percent of those in brooklyn',\n",
       " 'owns more than 20  000 kinds and approximately 14 million square feet of office',\n",
       " 'firebombed r o t c centers a small number  like the weathermen  took',\n",
       " 'in the provinces of ontario  quebec  alberta and british columbia while their targets',\n",
       " 'plant in the countrys remote north  near the russian border a russian nationalist parliamentarian',\n",
       " 'markets  in afghanistan  dozens of people were killed in more than 80 wounded']"
      ]
     },
     "execution_count": 264,
     "metadata": {},
     "output_type": "execute_result"
    }
   ],
   "source": [
    "headlines"
   ]
  },
  {
   "cell_type": "code",
   "execution_count": 294,
   "metadata": {},
   "outputs": [],
   "source": [
    "test_df = pd.read_csv('real_or_fake.csv', dtype = {'title': str, 'text': str})"
   ]
  },
  {
   "cell_type": "code",
   "execution_count": 295,
   "metadata": {},
   "outputs": [],
   "source": [
    "test_df = test_df.loc[test_df['label']=='REAL']"
   ]
  },
  {
   "cell_type": "code",
   "execution_count": 310,
   "metadata": {},
   "outputs": [],
   "source": [
    "filtered_df = filtered_df[:5]\n",
    "real_headlines = filtered_df['title'].tolist()"
   ]
  },
  {
   "cell_type": "code",
   "execution_count": 311,
   "metadata": {},
   "outputs": [],
   "source": [
    "real_headlines = [h.lower() for h in real_headlines]"
   ]
  },
  {
   "cell_type": "code",
   "execution_count": 312,
   "metadata": {},
   "outputs": [
    {
     "data": {
      "text/plain": [
       "['iran reportedly makes new push for uranium concessions in nuclear talks',\n",
       " 'with all three clintons in iowa, a glimpse at the fire that has eluded hillary clinton’s campaign',\n",
       " 'the 1 chart that explains everything you need to know about partisanship in america',\n",
       " 'new senate majority leader’s main goal for gop: don’t be scary',\n",
       " 'sanders trounces clinton in w. va. -- but will it make a difference?']"
      ]
     },
     "execution_count": 312,
     "metadata": {},
     "output_type": "execute_result"
    }
   ],
   "source": [
    "real_headlines"
   ]
  },
  {
   "cell_type": "code",
   "execution_count": 313,
   "metadata": {},
   "outputs": [],
   "source": [
    "all_headlines = headlines + real_headlines"
   ]
  },
  {
   "cell_type": "code",
   "execution_count": 314,
   "metadata": {},
   "outputs": [],
   "source": [
    "all_headlines = [h.upper() for h in all_headlines]"
   ]
  },
  {
   "cell_type": "code",
   "execution_count": 315,
   "metadata": {},
   "outputs": [
    {
     "data": {
      "text/plain": [
       "['NEARLY 500  000 IN POLITICAL CONTRIBUTIONS FROM GOV TERRY MCAULIFFE  A KEY ALLY',\n",
       " 'WEDNESDAY  SEVEN PEOPLE WERE KILLED IN NORTHWESTERN PAKISTAN IN TWO SUICIDE BOMBINGS  ONE',\n",
       " 'UNEMPLOYMENT RATE  AT 4 8 PERCENT IN JANUARY  IS IN A RANGE FED',\n",
       " 'VALEANT REPORTED A 2 4 BILLION LOSS LAST MONDAY  MR ACKMAN HAD HAD ENOUGH',\n",
       " 'BRONX  42 PERCENT OF THOSE INTERACTING QUEENS AND 31 PERCENT OF THOSE IN BROOKLYN',\n",
       " 'OWNS MORE THAN 20  000 KINDS AND APPROXIMATELY 14 MILLION SQUARE FEET OF OFFICE',\n",
       " 'FIREBOMBED R O T C CENTERS A SMALL NUMBER  LIKE THE WEATHERMEN  TOOK',\n",
       " 'IN THE PROVINCES OF ONTARIO  QUEBEC  ALBERTA AND BRITISH COLUMBIA WHILE THEIR TARGETS',\n",
       " 'PLANT IN THE COUNTRYS REMOTE NORTH  NEAR THE RUSSIAN BORDER A RUSSIAN NATIONALIST PARLIAMENTARIAN',\n",
       " 'MARKETS  IN AFGHANISTAN  DOZENS OF PEOPLE WERE KILLED IN MORE THAN 80 WOUNDED',\n",
       " 'IRAN REPORTEDLY MAKES NEW PUSH FOR URANIUM CONCESSIONS IN NUCLEAR TALKS',\n",
       " 'WITH ALL THREE CLINTONS IN IOWA, A GLIMPSE AT THE FIRE THAT HAS ELUDED HILLARY CLINTON’S CAMPAIGN',\n",
       " 'THE 1 CHART THAT EXPLAINS EVERYTHING YOU NEED TO KNOW ABOUT PARTISANSHIP IN AMERICA',\n",
       " 'NEW SENATE MAJORITY LEADER’S MAIN GOAL FOR GOP: DON’T BE SCARY',\n",
       " 'SANDERS TROUNCES CLINTON IN W. VA. -- BUT WILL IT MAKE A DIFFERENCE?']"
      ]
     },
     "execution_count": 315,
     "metadata": {},
     "output_type": "execute_result"
    }
   ],
   "source": [
    "all_headlines"
   ]
  },
  {
   "cell_type": "code",
   "execution_count": 279,
   "metadata": {},
   "outputs": [],
   "source": [
    "labels = ['f'] * 10 + ['r'] * 5"
   ]
  },
  {
   "cell_type": "code",
   "execution_count": 280,
   "metadata": {},
   "outputs": [
    {
     "data": {
      "text/plain": [
       "['f', 'f', 'f', 'f', 'f', 'f', 'f', 'f', 'f', 'f', 'r', 'r', 'r', 'r', 'r']"
      ]
     },
     "execution_count": 280,
     "metadata": {},
     "output_type": "execute_result"
    }
   ],
   "source": [
    "labels"
   ]
  },
  {
   "cell_type": "code",
   "execution_count": 316,
   "metadata": {},
   "outputs": [],
   "source": [
    "data = {'headlines': all_headlines, 'labels': labels}"
   ]
  },
  {
   "cell_type": "code",
   "execution_count": 317,
   "metadata": {},
   "outputs": [],
   "source": [
    "foo = pd.DataFrame(data)"
   ]
  },
  {
   "cell_type": "code",
   "execution_count": 318,
   "metadata": {},
   "outputs": [],
   "source": [
    "foo.to_csv('headlines.csv')"
   ]
  },
  {
   "cell_type": "code",
   "execution_count": 307,
   "metadata": {},
   "outputs": [],
   "source": [
    "filtered_indices = []\n",
    "for index, row in test_df.iterrows():\n",
    "    if len(row['title'].split(' ')) > 10:\n",
    "        filtered_indices.append(index)"
   ]
  },
  {
   "cell_type": "code",
   "execution_count": 308,
   "metadata": {},
   "outputs": [],
   "source": [
    "filtered_df = test_df.loc[filtered_indices]"
   ]
  },
  {
   "cell_type": "code",
   "execution_count": 309,
   "metadata": {},
   "outputs": [
    {
     "data": {
      "text/plain": [
       "1234"
      ]
     },
     "execution_count": 309,
     "metadata": {},
     "output_type": "execute_result"
    }
   ],
   "source": [
    "len(filtered_df)"
   ]
  },
  {
   "cell_type": "code",
   "execution_count": 321,
   "metadata": {},
   "outputs": [],
   "source": [
    "df = pd.read_csv('headlines.csv', index_col='id', dtype = {'title': str, 'label': str})\n",
    "random_id = np.random.randint(0, len(df)-1)"
   ]
  },
  {
   "cell_type": "code",
   "execution_count": 323,
   "metadata": {},
   "outputs": [],
   "source": [
    "chosen_row = df.loc[random_id]\n",
    "headline = chosen_row['headlines']\n",
    "label = chosen_row['labels']"
   ]
  },
  {
   "cell_type": "code",
   "execution_count": 324,
   "metadata": {},
   "outputs": [
    {
     "data": {
      "text/plain": [
       "'OWNS MORE THAN 20,000 KINDS AND APPROXIMATELY 14 MILLION SQUARE FEET OF OFFICE'"
      ]
     },
     "execution_count": 324,
     "metadata": {},
     "output_type": "execute_result"
    }
   ],
   "source": [
    "headline"
   ]
  },
  {
   "cell_type": "code",
   "execution_count": 325,
   "metadata": {},
   "outputs": [],
   "source": [
    "def get_random_headline(filename):\n",
    "    df = pd.read_csv(filename, index_col='id', dtype = {'title': str, 'label': str})\n",
    "    random_id = np.random.randint(0, len(df)-1)\n",
    "    chosen_row = df.loc[random_id]\n",
    "    headline = chosen_row['headlines']\n",
    "    label = chosen_row['labels']\n",
    "    return headline, label"
   ]
  },
  {
   "cell_type": "code",
   "execution_count": 326,
   "metadata": {},
   "outputs": [],
   "source": [
    "headline, label = get_random_headline('headlines.csv')"
   ]
  },
  {
   "cell_type": "code",
   "execution_count": 327,
   "metadata": {},
   "outputs": [
    {
     "name": "stdout",
     "output_type": "stream",
     "text": [
      "PLANT IN THE COUNTRYS REMOTE NORTH  NEAR THE RUSSIAN BORDER A RUSSIAN NATIONALIST PARLIAMENTARIAN f\n"
     ]
    }
   ],
   "source": [
    "print(headline, label)"
   ]
  },
  {
   "cell_type": "code",
   "execution_count": null,
   "metadata": {},
   "outputs": [],
   "source": []
  }
 ],
 "metadata": {
  "kernelspec": {
   "display_name": "Python (py36)",
   "language": "python",
   "name": "py36"
  },
  "language_info": {
   "codemirror_mode": {
    "name": "ipython",
    "version": 3
   },
   "file_extension": ".py",
   "mimetype": "text/x-python",
   "name": "python",
   "nbconvert_exporter": "python",
   "pygments_lexer": "ipython3",
   "version": "3.6.6"
  }
 },
 "nbformat": 4,
 "nbformat_minor": 2
}
