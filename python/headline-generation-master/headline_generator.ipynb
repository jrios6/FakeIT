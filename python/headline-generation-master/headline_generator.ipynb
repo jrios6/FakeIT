{
 "cells": [
  {
   "cell_type": "code",
   "execution_count": 1,
   "metadata": {},
   "outputs": [],
   "source": [
    "import numpy as np\n",
    "import pandas as pd\n",
    "from ngram_modeling import MarkovChain"
   ]
  },
  {
   "cell_type": "code",
   "execution_count": 2,
   "metadata": {},
   "outputs": [],
   "source": [
    "# Load data and convert it to numpy array\n",
    "data = pd.read_csv('news_cleaned.csv', header=None, na_values=['.'], encoding='latin-1')\n",
    "data = np.array(data)\n",
    "\n",
    "# Flatten it so we got array of strings\n",
    "data = data.flatten()\n",
    "\n",
    "# Concatenate the articles\n",
    "data = ' '.join(data)\n",
    "\n",
    "# Set the grams and designated text size\n",
    "n_grams = 5\n",
    "text_size = 200\n",
    "\n",
    "# Instantiate markov chain and generate text\n",
    "markov = MarkovChain(data, n_grams, text_size)"
   ]
  },
  {
   "cell_type": "code",
   "execution_count": 122,
   "metadata": {},
   "outputs": [
    {
     "name": "stdout",
     "output_type": "stream",
     "text": [
      "bailey circus is shutting down  after dwindling attendance and\n"
     ]
    }
   ],
   "source": [
    "output = markov.generateText()\n",
    "output_parts = output.split(' ')[:10]\n",
    "headline = (' ').join(output_parts)\n",
    "print(headline)"
   ]
  },
  {
   "cell_type": "code",
   "execution_count": 118,
   "metadata": {},
   "outputs": [],
   "source": [
    "%matplotlib inline\n",
    "import matplotlib.pyplot as plt\n",
    "from urllib.parse import urlencode\n",
    "from urllib.request import Request, urlopen\n",
    "import json\n",
    "import numpy as np\n",
    "import pandas as pd"
   ]
  },
  {
   "cell_type": "code",
   "execution_count": 119,
   "metadata": {},
   "outputs": [],
   "source": [
    "api_url = 'http://localhost:8080/fakebox/check' # Set destination URL here"
   ]
  },
  {
   "cell_type": "code",
   "execution_count": 120,
   "metadata": {},
   "outputs": [],
   "source": [
    "def get_json_str(title, content=None, url=None):\n",
    "    if content and url:\n",
    "        post_fields = {'title': title, 'content': content, 'url': url}     # Set POST fields here\n",
    "    elif content:\n",
    "        post_fields = {'title': title, 'content': content}     # Set POST fields here\n",
    "    else:\n",
    "        post_fields = {'title': title}\n",
    "    request = Request(api_url, urlencode(post_fields).encode())\n",
    "    json_str = urlopen(request).read().decode()\n",
    "    return json_str"
   ]
  },
  {
   "cell_type": "code",
   "execution_count": 121,
   "metadata": {},
   "outputs": [],
   "source": [
    "def parse_json_str(json_str, content=None, url=None):\n",
    "    json_data = json.loads(json_str)\n",
    "    title_fake_score = json_data['title']['score']\n",
    "    title_pred_type = json_data['title']['decision']\n",
    "    if content:\n",
    "        content_fake_score = json_data['content']['score']\n",
    "        content_pred_type = json_data['content']['decision']\n",
    "    else:\n",
    "        content_fake_score = 0\n",
    "        content_pred_type = 0\n",
    "    if url:\n",
    "        domain_type = json_data['domain']['category']\n",
    "    else:\n",
    "        domain_type = None\n",
    "    return title_fake_score, title_pred_type, content_fake_score, content_pred_type, domain_type"
   ]
  },
  {
   "cell_type": "code",
   "execution_count": 250,
   "metadata": {},
   "outputs": [
    {
     "name": "stdout",
     "output_type": "stream",
     "text": [
      "0.9542144536972046\n",
      "former turkish minister for european union affairs in one email in 2013  mr alptekin\n"
     ]
    }
   ],
   "source": [
    "title_fake_score = 0\n",
    "while title_fake_score < 0.94:\n",
    "    output = markov.generateText()\n",
    "    output_parts = output.split(' ')[:15]\n",
    "    headline = (' ').join(output_parts)\n",
    "    title = headline\n",
    "    json_str = get_json_str(title)\n",
    "    title_fake_score, title_pred_type, content_fake_score, content_pred_type, domain_type = parse_json_str(json_str)\n",
    "\n",
    "print(title_fake_score)\n",
    "print(title)"
   ]
  },
  {
   "cell_type": "code",
   "execution_count": 124,
   "metadata": {},
   "outputs": [
    {
     "data": {
      "text/plain": [
       "0.48547863960266113"
      ]
     },
     "execution_count": 124,
     "metadata": {},
     "output_type": "execute_result"
    }
   ],
   "source": [
    "title_fake_score"
   ]
  },
  {
   "cell_type": "code",
   "execution_count": null,
   "metadata": {},
   "outputs": [],
   "source": []
  }
 ],
 "metadata": {
  "kernelspec": {
   "display_name": "Python (py36)",
   "language": "python",
   "name": "py36"
  },
  "language_info": {
   "codemirror_mode": {
    "name": "ipython",
    "version": 3
   },
   "file_extension": ".py",
   "mimetype": "text/x-python",
   "name": "python",
   "nbconvert_exporter": "python",
   "pygments_lexer": "ipython3",
   "version": "3.6.6"
  }
 },
 "nbformat": 4,
 "nbformat_minor": 2
}
