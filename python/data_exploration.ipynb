{
 "cells": [
  {
   "cell_type": "code",
   "execution_count": 3,
   "metadata": {},
   "outputs": [],
   "source": [
    "%matplotlib inline\n",
    "import pandas as pd\n",
    "import numpy as np\n",
    "from IPython.display import Image\n",
    "from IPython.core.display import HTML \n",
    "import matplotlib.pyplot as plt"
   ]
  },
  {
   "cell_type": "code",
   "execution_count": 4,
   "metadata": {},
   "outputs": [],
   "source": [
    "df = pd.read_csv('data/fake.csv', index_col='uuid', dtype = {'title': str, 'text': str, 'main_img_url': str})"
   ]
  },
  {
   "cell_type": "code",
   "execution_count": null,
   "metadata": {},
   "outputs": [],
   "source": [
    "df.describe()"
   ]
  },
  {
   "cell_type": "code",
   "execution_count": null,
   "metadata": {},
   "outputs": [],
   "source": [
    "df.columns"
   ]
  },
  {
   "cell_type": "markdown",
   "metadata": {},
   "source": [
    "## Different types of fake news"
   ]
  },
  {
   "cell_type": "code",
   "execution_count": null,
   "metadata": {},
   "outputs": [],
   "source": [
    "df['type'].unique()"
   ]
  },
  {
   "cell_type": "code",
   "execution_count": null,
   "metadata": {},
   "outputs": [],
   "source": [
    "df['type'].value_counts().plot(kind='bar')"
   ]
  },
  {
   "cell_type": "code",
   "execution_count": null,
   "metadata": {},
   "outputs": [],
   "source": [
    "# filter by image url not NA\n",
    "df = df.loc[df['main_img_url'].notnull()]    "
   ]
  },
  {
   "cell_type": "code",
   "execution_count": null,
   "metadata": {},
   "outputs": [],
   "source": [
    "def random_article_by_category(df, category):\n",
    "    subset = df[df['type'] == category]\n",
    "    #subset = subset.loc[subset['main_img_url'][-3:] == 'png']\n",
    "    subset_uuids = subset.index\n",
    "    chosen_uuid = np.random.choice(subset_uuids)\n",
    "    #print(chosen_uuid)\n",
    "    return get_article_by_uuid(df, chosen_uuid)\n",
    "\n",
    "def get_article_by_uuid(df, uuid):\n",
    "    row = df.loc[uuid]\n",
    "    article = {}\n",
    "    article['title'] = row.title\n",
    "    article['text'] = row.text\n",
    "    article['published'] = row.published\n",
    "    article['site_url'] = row.site_url\n",
    "    article['main_img_url'] = row.main_img_url\n",
    "\n",
    "    return article"
   ]
  },
  {
   "cell_type": "code",
   "execution_count": null,
   "metadata": {},
   "outputs": [],
   "source": [
    "article = random_article_by_category(df, 'bs')\n",
    "print(article['title'])\n",
    "print(article['main_img_url'])\n",
    "Image(url= article['main_img_url'], width=200, height=100)"
   ]
  },
  {
   "cell_type": "markdown",
   "metadata": {},
   "source": [
    "## Test"
   ]
  },
  {
   "cell_type": "code",
   "execution_count": null,
   "metadata": {},
   "outputs": [],
   "source": [
    "all_uuid = df.index.tolist()\n",
    "all_image_url = df['main_img_url'].tolist()"
   ]
  },
  {
   "cell_type": "code",
   "execution_count": null,
   "metadata": {},
   "outputs": [],
   "source": [
    "filtered_ids = []\n",
    "for i, url in enumerate(all_image_url):\n",
    "    if str(url)[-3:]=='png':\n",
    "        filtered_ids.append(all_uuid[i])"
   ]
  },
  {
   "cell_type": "code",
   "execution_count": null,
   "metadata": {},
   "outputs": [],
   "source": [
    "filtered_df = df.loc[filtered_ids]"
   ]
  },
  {
   "cell_type": "code",
   "execution_count": null,
   "metadata": {},
   "outputs": [],
   "source": [
    "article = random_article_by_category(filtered_df, 'bs')\n",
    "print(article['main_img_url'])"
   ]
  },
  {
   "cell_type": "code",
   "execution_count": null,
   "metadata": {},
   "outputs": [],
   "source": [
    "Image(url= article['main_img_url'], width=200, height=100)"
   ]
  },
  {
   "cell_type": "code",
   "execution_count": 5,
   "metadata": {},
   "outputs": [],
   "source": [
    "import news_generator as news"
   ]
  },
  {
   "cell_type": "code",
   "execution_count": null,
   "metadata": {},
   "outputs": [],
   "source": [
    "df = news.get_news_df('fake.csv')"
   ]
  },
  {
   "cell_type": "code",
   "execution_count": 9,
   "metadata": {},
   "outputs": [
    {
     "name": "stdout",
     "output_type": "stream",
     "text": [
      "Republicans in Congress are ready for Hillary as they prepare for new probes into Clinton Foundation\n",
      "http://static.infowars.com/images/INFOWARS_stacked.jpg\n"
     ]
    }
   ],
   "source": [
    "article = news.get_random_article()\n",
    "print(article['title'])\n",
    "print(article['main_img_url'])\n",
    "a=Image(url=article['main_img_url'], width=200, height=100)"
   ]
  },
  {
   "cell_type": "code",
   "execution_count": null,
   "metadata": {},
   "outputs": [],
   "source": [
    "article = news.get_random_article()\n",
    "while not(exists(article['main_img_url'])):\n",
    "    article = news.get_random_article()\n",
    "    print(article['main_img_url'])\n",
    "print(article['title'])\n",
    "print(article['main_img_url'])\n",
    "a=Image(url=article['main_img_url'], width=200, height=100)\n",
    "a"
   ]
  },
  {
   "cell_type": "code",
   "execution_count": null,
   "metadata": {},
   "outputs": [],
   "source": [
    "import requests\n",
    "\n",
    "def exists(path):\n",
    "    r = requests.head(path)\n",
    "    return r.status_code == requests.codes.ok\n",
    "\n",
    "print(exists(article['main_img_url']))"
   ]
  },
  {
   "cell_type": "code",
   "execution_count": null,
   "metadata": {},
   "outputs": [],
   "source": [
    "len(df)"
   ]
  },
  {
   "cell_type": "code",
   "execution_count": null,
   "metadata": {},
   "outputs": [],
   "source": [
    "all_uuid = df.index.tolist()\n",
    "all_image_url = df['main_img_url'].tolist()\n",
    "filtered_ids = []\n",
    "for i, url in enumerate(all_image_url):\n",
    "    if (exists(str(url))):\n",
    "        print(url)\n",
    "        filtered_ids.append(all_uuid[i])"
   ]
  },
  {
   "cell_type": "code",
   "execution_count": null,
   "metadata": {},
   "outputs": [],
   "source": [
    "len(filtered_ids)"
   ]
  },
  {
   "cell_type": "code",
   "execution_count": null,
   "metadata": {},
   "outputs": [],
   "source": [
    "import pickle\n",
    "filename = 'filtered_ids.pkl'\n",
    "with open(filename, 'wb') as f:\n",
    "    pickle.dump([filtered_ids], f)"
   ]
  },
  {
   "cell_type": "code",
   "execution_count": null,
   "metadata": {},
   "outputs": [],
   "source": [
    "filtered_df = df.loc[filtered_ids]"
   ]
  },
  {
   "cell_type": "code",
   "execution_count": null,
   "metadata": {},
   "outputs": [],
   "source": [
    "filtered_df.to_csv('filtered_fake.csv')"
   ]
  },
  {
   "cell_type": "code",
   "execution_count": null,
   "metadata": {},
   "outputs": [],
   "source": [
    "filtered_df = pd.read_csv('filtered_fake.csv', index_col='uuid', dtype = {'title': str, 'text': str, 'main_img_url': str})"
   ]
  },
  {
   "cell_type": "code",
   "execution_count": null,
   "metadata": {},
   "outputs": [],
   "source": [
    "len(filtered_df)"
   ]
  },
  {
   "cell_type": "code",
   "execution_count": 11,
   "metadata": {},
   "outputs": [
    {
     "data": {
      "text/plain": [
       "9"
      ]
     },
     "execution_count": 11,
     "metadata": {},
     "output_type": "execute_result"
    }
   ],
   "source": [
    "import numpy as np\n",
    "np.random.randint(2,10)"
   ]
  },
  {
   "cell_type": "code",
   "execution_count": null,
   "metadata": {},
   "outputs": [],
   "source": []
  }
 ],
 "metadata": {
  "kernelspec": {
   "display_name": "Python (py36)",
   "language": "python",
   "name": "py36"
  },
  "language_info": {
   "codemirror_mode": {
    "name": "ipython",
    "version": 3
   },
   "file_extension": ".py",
   "mimetype": "text/x-python",
   "name": "python",
   "nbconvert_exporter": "python",
   "pygments_lexer": "ipython3",
   "version": "3.6.6"
  }
 },
 "nbformat": 4,
 "nbformat_minor": 2
}
