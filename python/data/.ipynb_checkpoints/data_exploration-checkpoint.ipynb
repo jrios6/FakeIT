{
 "cells": [
  {
   "cell_type": "code",
   "execution_count": 1,
   "metadata": {},
   "outputs": [],
   "source": [
    "%matplotlib inline\n",
    "import pandas as pd\n",
    "import numpy as np\n",
    "from IPython.display import Image\n",
    "from IPython.core.display import HTML \n",
    "import matplotlib.pyplot as plt"
   ]
  },
  {
   "cell_type": "code",
   "execution_count": 2,
   "metadata": {},
   "outputs": [],
   "source": [
    "df = pd.read_csv('fake.csv', index_col='uuid', dtype = {'title': str, 'text': str, 'main_img_url': str})"
   ]
  },
  {
   "cell_type": "code",
   "execution_count": 3,
   "metadata": {},
   "outputs": [
    {
     "data": {
      "text/html": [
       "<div>\n",
       "<style scoped>\n",
       "    .dataframe tbody tr th:only-of-type {\n",
       "        vertical-align: middle;\n",
       "    }\n",
       "\n",
       "    .dataframe tbody tr th {\n",
       "        vertical-align: top;\n",
       "    }\n",
       "\n",
       "    .dataframe thead th {\n",
       "        text-align: right;\n",
       "    }\n",
       "</style>\n",
       "<table border=\"1\" class=\"dataframe\">\n",
       "  <thead>\n",
       "    <tr style=\"text-align: right;\">\n",
       "      <th></th>\n",
       "      <th>ord_in_thread</th>\n",
       "      <th>domain_rank</th>\n",
       "      <th>spam_score</th>\n",
       "      <th>replies_count</th>\n",
       "      <th>participants_count</th>\n",
       "      <th>likes</th>\n",
       "      <th>comments</th>\n",
       "      <th>shares</th>\n",
       "    </tr>\n",
       "  </thead>\n",
       "  <tbody>\n",
       "    <tr>\n",
       "      <th>count</th>\n",
       "      <td>12999.000000</td>\n",
       "      <td>8776.000000</td>\n",
       "      <td>12999.000000</td>\n",
       "      <td>12999.000000</td>\n",
       "      <td>12999.000000</td>\n",
       "      <td>12999.000000</td>\n",
       "      <td>12999.000000</td>\n",
       "      <td>12999.000000</td>\n",
       "    </tr>\n",
       "    <tr>\n",
       "      <th>mean</th>\n",
       "      <td>0.891530</td>\n",
       "      <td>38092.996582</td>\n",
       "      <td>0.026122</td>\n",
       "      <td>1.383183</td>\n",
       "      <td>1.727518</td>\n",
       "      <td>10.831833</td>\n",
       "      <td>0.038311</td>\n",
       "      <td>10.831833</td>\n",
       "    </tr>\n",
       "    <tr>\n",
       "      <th>std</th>\n",
       "      <td>6.486822</td>\n",
       "      <td>26825.487454</td>\n",
       "      <td>0.122889</td>\n",
       "      <td>9.656838</td>\n",
       "      <td>6.884239</td>\n",
       "      <td>79.798949</td>\n",
       "      <td>0.827335</td>\n",
       "      <td>79.798949</td>\n",
       "    </tr>\n",
       "    <tr>\n",
       "      <th>min</th>\n",
       "      <td>0.000000</td>\n",
       "      <td>486.000000</td>\n",
       "      <td>0.000000</td>\n",
       "      <td>0.000000</td>\n",
       "      <td>0.000000</td>\n",
       "      <td>0.000000</td>\n",
       "      <td>0.000000</td>\n",
       "      <td>0.000000</td>\n",
       "    </tr>\n",
       "    <tr>\n",
       "      <th>25%</th>\n",
       "      <td>0.000000</td>\n",
       "      <td>17423.000000</td>\n",
       "      <td>0.000000</td>\n",
       "      <td>0.000000</td>\n",
       "      <td>1.000000</td>\n",
       "      <td>0.000000</td>\n",
       "      <td>0.000000</td>\n",
       "      <td>0.000000</td>\n",
       "    </tr>\n",
       "    <tr>\n",
       "      <th>50%</th>\n",
       "      <td>0.000000</td>\n",
       "      <td>34478.000000</td>\n",
       "      <td>0.000000</td>\n",
       "      <td>0.000000</td>\n",
       "      <td>1.000000</td>\n",
       "      <td>0.000000</td>\n",
       "      <td>0.000000</td>\n",
       "      <td>0.000000</td>\n",
       "    </tr>\n",
       "    <tr>\n",
       "      <th>75%</th>\n",
       "      <td>0.000000</td>\n",
       "      <td>60570.000000</td>\n",
       "      <td>0.000000</td>\n",
       "      <td>0.000000</td>\n",
       "      <td>1.000000</td>\n",
       "      <td>0.000000</td>\n",
       "      <td>0.000000</td>\n",
       "      <td>0.000000</td>\n",
       "    </tr>\n",
       "    <tr>\n",
       "      <th>max</th>\n",
       "      <td>100.000000</td>\n",
       "      <td>98679.000000</td>\n",
       "      <td>1.000000</td>\n",
       "      <td>309.000000</td>\n",
       "      <td>240.000000</td>\n",
       "      <td>988.000000</td>\n",
       "      <td>65.000000</td>\n",
       "      <td>988.000000</td>\n",
       "    </tr>\n",
       "  </tbody>\n",
       "</table>\n",
       "</div>"
      ],
      "text/plain": [
       "       ord_in_thread   domain_rank    spam_score  replies_count  \\\n",
       "count   12999.000000   8776.000000  12999.000000   12999.000000   \n",
       "mean        0.891530  38092.996582      0.026122       1.383183   \n",
       "std         6.486822  26825.487454      0.122889       9.656838   \n",
       "min         0.000000    486.000000      0.000000       0.000000   \n",
       "25%         0.000000  17423.000000      0.000000       0.000000   \n",
       "50%         0.000000  34478.000000      0.000000       0.000000   \n",
       "75%         0.000000  60570.000000      0.000000       0.000000   \n",
       "max       100.000000  98679.000000      1.000000     309.000000   \n",
       "\n",
       "       participants_count         likes      comments        shares  \n",
       "count        12999.000000  12999.000000  12999.000000  12999.000000  \n",
       "mean             1.727518     10.831833      0.038311     10.831833  \n",
       "std              6.884239     79.798949      0.827335     79.798949  \n",
       "min              0.000000      0.000000      0.000000      0.000000  \n",
       "25%              1.000000      0.000000      0.000000      0.000000  \n",
       "50%              1.000000      0.000000      0.000000      0.000000  \n",
       "75%              1.000000      0.000000      0.000000      0.000000  \n",
       "max            240.000000    988.000000     65.000000    988.000000  "
      ]
     },
     "execution_count": 3,
     "metadata": {},
     "output_type": "execute_result"
    }
   ],
   "source": [
    "df.describe()"
   ]
  },
  {
   "cell_type": "code",
   "execution_count": 4,
   "metadata": {},
   "outputs": [
    {
     "data": {
      "text/plain": [
       "Index(['ord_in_thread', 'author', 'published', 'title', 'text', 'language',\n",
       "       'crawled', 'site_url', 'country', 'domain_rank', 'thread_title',\n",
       "       'spam_score', 'main_img_url', 'replies_count', 'participants_count',\n",
       "       'likes', 'comments', 'shares', 'type'],\n",
       "      dtype='object')"
      ]
     },
     "execution_count": 4,
     "metadata": {},
     "output_type": "execute_result"
    }
   ],
   "source": [
    "df.columns"
   ]
  },
  {
   "cell_type": "markdown",
   "metadata": {},
   "source": [
    "## Different types of fake news"
   ]
  },
  {
   "cell_type": "code",
   "execution_count": 5,
   "metadata": {},
   "outputs": [
    {
     "data": {
      "text/plain": [
       "array(['bias', 'conspiracy', 'fake', 'bs', 'satire', 'hate', 'junksci',\n",
       "       'state'], dtype=object)"
      ]
     },
     "execution_count": 5,
     "metadata": {},
     "output_type": "execute_result"
    }
   ],
   "source": [
    "df['type'].unique()"
   ]
  },
  {
   "cell_type": "code",
   "execution_count": 6,
   "metadata": {},
   "outputs": [
    {
     "data": {
      "text/plain": [
       "<matplotlib.axes._subplots.AxesSubplot at 0x11be66780>"
      ]
     },
     "execution_count": 6,
     "metadata": {},
     "output_type": "execute_result"
    },
    {
     "data": {
      "image/png": "[encoded data removed]",
      "text/plain": [
       "<Figure size 432x288 with 1 Axes>"
      ]
     },
     "metadata": {},
     "output_type": "display_data"
    }
   ],
   "source": [
    "df['type'].value_counts().plot(kind='bar')"
   ]
  },
  {
   "cell_type": "code",
   "execution_count": 7,
   "metadata": {},
   "outputs": [],
   "source": [
    "# filter by image url not NA\n",
    "df = df.loc[df['main_img_url'].notnull()]    "
   ]
  },
  {
   "cell_type": "code",
   "execution_count": 8,
   "metadata": {},
   "outputs": [],
   "source": [
    "def random_article_by_category(df, category):\n",
    "    subset = df[df['type'] == category]\n",
    "    #subset = subset.loc[subset['main_img_url'][-3:] == 'png']\n",
    "    subset_uuids = subset.index\n",
    "    chosen_uuid = np.random.choice(subset_uuids)\n",
    "    #print(chosen_uuid)\n",
    "    return get_article_by_uuid(df, chosen_uuid)\n",
    "\n",
    "def get_article_by_uuid(df, uuid):\n",
    "    row = df.loc[uuid]\n",
    "    article = {}\n",
    "    article['title'] = row.title\n",
    "    article['text'] = row.text\n",
    "    article['published'] = row.published\n",
    "    article['site_url'] = row.site_url\n",
    "    article['main_img_url'] = row.main_img_url\n",
    "\n",
    "    return article"
   ]
  },
  {
   "cell_type": "code",
   "execution_count": 9,
   "metadata": {},
   "outputs": [
    {
     "name": "stdout",
     "output_type": "stream",
     "text": [
      "Refugees scooped out of Lake Erie\n",
      "http://images.spoof-media.com/thespoof//\n"
     ]
    },
    {
     "data": {
      "text/html": [
       "<img src=\"http://images.spoof-media.com/thespoof//\" width=\"200\" height=\"100\"/>"
      ],
      "text/plain": [
       "<IPython.core.display.Image object>"
      ]
     },
     "execution_count": 9,
     "metadata": {},
     "output_type": "execute_result"
    }
   ],
   "source": [
    "article = random_article_by_category(df, 'bs')\n",
    "print(article['title'])\n",
    "print(article['main_img_url'])\n",
    "Image(url= article['main_img_url'], width=200, height=100)"
   ]
  },
  {
   "cell_type": "markdown",
   "metadata": {},
   "source": [
    "## Test"
   ]
  },
  {
   "cell_type": "code",
   "execution_count": 10,
   "metadata": {},
   "outputs": [],
   "source": [
    "all_uuid = df.index.tolist()\n",
    "all_image_url = df['main_img_url'].tolist()"
   ]
  },
  {
   "cell_type": "code",
   "execution_count": 11,
   "metadata": {},
   "outputs": [],
   "source": [
    "filtered_ids = []\n",
    "for i, url in enumerate(all_image_url):\n",
    "    if str(url)[-3:]=='png':\n",
    "        filtered_ids.append(all_uuid[i])"
   ]
  },
  {
   "cell_type": "code",
   "execution_count": 12,
   "metadata": {},
   "outputs": [],
   "source": [
    "filtered_df = df.loc[filtered_ids]"
   ]
  },
  {
   "cell_type": "code",
   "execution_count": 13,
   "metadata": {},
   "outputs": [
    {
     "name": "stdout",
     "output_type": "stream",
     "text": [
      "http://www.ifyouonlynews.com/wp-content/uploads/2016/11/f434rf43f3.png\n"
     ]
    }
   ],
   "source": [
    "article = random_article_by_category(filtered_df, 'bs')\n",
    "print(article['main_img_url'])"
   ]
  },
  {
   "cell_type": "code",
   "execution_count": 14,
   "metadata": {},
   "outputs": [
    {
     "data": {
      "text/html": [
       "<img src=\"http://www.ifyouonlynews.com/wp-content/uploads/2016/11/f434rf43f3.png\" width=\"200\" height=\"100\"/>"
      ],
      "text/plain": [
       "<IPython.core.display.Image object>"
      ]
     },
     "execution_count": 14,
     "metadata": {},
     "output_type": "execute_result"
    }
   ],
   "source": [
    "Image(url= article['main_img_url'], width=200, height=100)"
   ]
  },
  {
   "cell_type": "code",
   "execution_count": 15,
   "metadata": {},
   "outputs": [],
   "source": [
    "import news_generator as news"
   ]
  },
  {
   "cell_type": "code",
   "execution_count": 70,
   "metadata": {},
   "outputs": [],
   "source": [
    "df = news.get_news_df('fake.csv')"
   ]
  },
  {
   "cell_type": "code",
   "execution_count": 69,
   "metadata": {},
   "outputs": [
    {
     "name": "stdout",
     "output_type": "stream",
     "text": [
      "http://media.presstv.com/photo/20161028/449bd2d5-fb3f-413c-93e5-4ba21a19e5ef.jpg\n",
      "Five Filipino hostages freed by Somali pirates reunite with families\n",
      "http://media.presstv.com/photo/20161028/449bd2d5-fb3f-413c-93e5-4ba21a19e5ef.jpg\n"
     ]
    },
    {
     "data": {
      "text/html": [
       "<img src=\"http://media.presstv.com/photo/20161028/449bd2d5-fb3f-413c-93e5-4ba21a19e5ef.jpg\" width=\"200\" height=\"100\"/>"
      ],
      "text/plain": [
       "<IPython.core.display.Image object>"
      ]
     },
     "execution_count": 69,
     "metadata": {},
     "output_type": "execute_result"
    }
   ],
   "source": [
    "article = news.get_random_article()\n",
    "while not(exists(article['main_img_url'])):\n",
    "    article = news.get_random_article()\n",
    "    print(article['main_img_url'])\n",
    "print(article['title'])\n",
    "print(article['main_img_url'])\n",
    "a=Image(url=article['main_img_url'], width=200, height=100)\n",
    "a"
   ]
  },
  {
   "cell_type": "code",
   "execution_count": 54,
   "metadata": {},
   "outputs": [
    {
     "name": "stdout",
     "output_type": "stream",
     "text": [
      "False\n"
     ]
    }
   ],
   "source": [
    "import requests\n",
    "\n",
    "def exists(path):\n",
    "    r = requests.head(path)\n",
    "    return r.status_code == requests.codes.ok\n",
    "\n",
    "print(exists(article['main_img_url']))"
   ]
  },
  {
   "cell_type": "code",
   "execution_count": 71,
   "metadata": {},
   "outputs": [
    {
     "data": {
      "text/plain": [
       "8863"
      ]
     },
     "execution_count": 71,
     "metadata": {},
     "output_type": "execute_result"
    }
   ],
   "source": [
    "len(df)"
   ]
  },
  {
   "cell_type": "code",
   "execution_count": 72,
   "metadata": {},
   "outputs": [
    {
     "name": "stdout",
     "output_type": "stream",
     "text": [
      "http://i1.wp.com/21stcenturywire.com/wp-content/uploads/2016/10/DNC-SCANDAL-PART2-21WIRE-SLIDER-SH-1.jpg?fit=620%2C415\n",
      "http://i0.wp.com/21stcenturywire.com/wp-content/uploads/2016/11/2-Clinton-Podesta-Email.jpg?fit=610%2C415\n",
      "http://i2.wp.com/21stcenturywire.com/wp-content/uploads/2016/10/Clinton-Gold-21WIRE-SLIDER-SH.jpg?fit=620%2C415\n",
      "http://i2.wp.com/21stcenturywire.com/wp-content/uploads/2016/11/ISIS_Clinton-Foundation.jpg?fit=610%2C415\n",
      "http://i0.wp.com/21stcenturywire.com/wp-content/uploads/2016/11/1-Hillary-jump-the-shark.jpg?fit=610%2C415\n",
      "http://i1.wp.com/21stcenturywire.com/wp-content/uploads/2016/11/1-hillary-russia-hawk-nuke-.jpg?fit=610%2C415\n",
      "http://i2.wp.com/21stcenturywire.com/wp-content/uploads/2016/11/1-Trump-Hillary.jpg?fit=610%2C413\n",
      "http://i0.wp.com/21stcenturywire.com/wp-content/uploads/2016/11/1-Putin-Trump.jpg?fit=610%2C415\n",
      "http://i1.wp.com/21stcenturywire.com/wp-content/uploads/2016/11/1-david-icke-trump.jpg?fit=610%2C415\n",
      "http://i2.wp.com/21stcenturywire.com/wp-content/uploads/2016/11/1-Carlos-Slim-Trump.jpg?fit=610%2C415\n",
      "http://i1.wp.com/21stcenturywire.com/wp-content/uploads/2016/11/1-Kiki-Green-Trump.png?fit=610%2C415\n",
      "http://i2.wp.com/21stcenturywire.com/wp-content/uploads/2016/11/1-Trump-student-protesters.png?fit=610%2C415\n",
      "http://i0.wp.com/21stcenturywire.com/wp-content/uploads/2016/11/SICK-SOROS-PAID-PROTESTS-21WIRE-SLIDER-SH-4.jpg?fit=620%2C415\n",
      "http://i0.wp.com/21stcenturywire.com/wp-content/uploads/2016/11/1-Patrick_henningsen-Trump-Riots.png?fit=610%2C415\n",
      "http://i2.wp.com/21stcenturywire.com/wp-content/uploads/2016/11/1-Hillary-Trump-DOGS.jpg?fit=610%2C419\n",
      "http://i0.wp.com/21stcenturywire.com/wp-content/uploads/2016/11/1-SW-deplorables-copy.jpg?fit=610%2C415\n",
      "http://i0.wp.com/21stcenturywire.com/wp-content/uploads/2016/11/2-Trump-Stahl-60-Minutes-copy.jpg?fit=610%2C415\n",
      "http://i2.wp.com/21stcenturywire.com/wp-content/uploads/2016/11/1-Clinton-KKK-Democratic-Party.jpg?fit=610%2C415\n",
      "http://i2.wp.com/21stcenturywire.com/wp-content/uploads/2016/11/1-Hillary-Clinton-e1479932220348.jpg?fit=740%2C411\n",
      "http://i2.wp.com/21stcenturywire.com/wp-content/uploads/2016/11/trump-pepe.png?fit=610%2C420\n",
      "http://i1.wp.com/21stcenturywire.com/wp-content/uploads/2016/11/1-RU-REd-SCARE-RT.jpg?fit=610%2C413\n",
      "http://abcnews.com.co/wp-content/uploads/2016/10/The-Amish-vote-for-donald-Trump.jpg\n",
      "http://abcnews.com.co/wp-content/uploads/2016/11/Obama-signs-Executive-Order.jpg\n",
      "http://files.abovetopsecret.com/images/ats10.jpg\n",
      "http://files.abovetopsecret.com/images/ats10.jpg\n",
      "http://files.abovetopsecret.com/images/ats3.jpg\n",
      "http://files.abovetopsecret.com/images/ats12.jpg\n",
      "http://files.abovetopsecret.com/images/ats16.jpg\n",
      "http://files.abovetopsecret.com/images/ats4.jpg\n",
      "http://files.abovetopsecret.com/images/ats15.jpg\n",
      "http://files.abovetopsecret.com/images/ats3.jpg\n",
      "http://files.abovetopsecret.com/images/ats4.jpg\n",
      "http://files.abovetopsecret.com/images/ats7.jpg\n",
      "http://files.abovetopsecret.com/images/ats6.jpg\n",
      "http://files.abovetopsecret.com/images/ats17.jpg\n",
      "http://files.abovetopsecret.com/images/ats6.jpg\n",
      "http://files.abovetopsecret.com/images/ats16.jpg\n",
      "http://files.abovetopsecret.com/images/ats13.jpg\n",
      "http://files.abovetopsecret.com/images/ats3.jpg\n",
      "http://files.abovetopsecret.com/images/ats13.jpg\n",
      "http://files.abovetopsecret.com/images/ats16.jpg\n",
      "http://files.abovetopsecret.com/images/ats6.jpg\n",
      "http://files.abovetopsecret.com/images/ats16.jpg\n",
      "http://files.abovetopsecret.com/images/ats15.jpg\n",
      "http://files.abovetopsecret.com/images/ats10.jpg\n",
      "http://files.abovetopsecret.com/images/ats3.jpg\n",
      "http://files.abovetopsecret.com/images/ats12.jpg\n",
      "http://files.abovetopsecret.com/images/ats7.jpg\n",
      "http://files.abovetopsecret.com/images/ats2.jpg\n",
      "http://files.abovetopsecret.com/images/ats15.jpg\n",
      "http://files.abovetopsecret.com/images/ats7.jpg\n",
      "http://files.abovetopsecret.com/images/ats13.jpg\n",
      "http://files.abovetopsecret.com/images/ats4.jpg\n",
      "http://files.abovetopsecret.com/images/ats2.jpg\n",
      "http://files.abovetopsecret.com/images/ats4.jpg\n",
      "http://files.abovetopsecret.com/images/ats10.jpg\n",
      "http://files.abovetopsecret.com/images/ats18.jpg\n",
      "http://files.abovetopsecret.com/images/ats16.jpg\n",
      "http://files.abovetopsecret.com/images/ats9.jpg\n",
      "http://files.abovetopsecret.com/images/ats7.jpg\n",
      "http://files.abovetopsecret.com/images/ats9.jpg\n",
      "http://files.abovetopsecret.com/images/ats2.jpg\n",
      "http://files.abovetopsecret.com/images/ats8.jpg\n",
      "http://files.abovetopsecret.com/images/ats9.jpg\n",
      "http://files.abovetopsecret.com/images/ats5.jpg\n",
      "http://files.abovetopsecret.com/images/ats15.jpg\n",
      "http://files.abovetopsecret.com/images/ats17.jpg\n",
      "http://files.abovetopsecret.com/images/ats6.jpg\n",
      "http://files.abovetopsecret.com/images/ats10.jpg\n",
      "http://files.abovetopsecret.com/images/ats3.jpg\n",
      "http://files.abovetopsecret.com/images/ats8.jpg\n",
      "http://files.abovetopsecret.com/images/ats3.jpg\n",
      "http://files.abovetopsecret.com/images/ats5.jpg\n",
      "http://files.abovetopsecret.com/images/ats16.jpg\n",
      "http://files.abovetopsecret.com/images/ats2.jpg\n",
      "http://files.abovetopsecret.com/images/ats13.jpg\n",
      "http://files.abovetopsecret.com/images/ats3.jpg\n",
      "http://files.abovetopsecret.com/images/ats2.jpg\n",
      "http://files.abovetopsecret.com/images/ats11.jpg\n",
      "http://files.abovetopsecret.com/images/ats8.jpg\n",
      "http://files.abovetopsecret.com/images/ats6.jpg\n",
      "http://files.abovetopsecret.com/images/ats6.jpg\n",
      "http://files.abovetopsecret.com/images/ats11.jpg\n",
      "http://files.abovetopsecret.com/images/ats15.jpg\n",
      "http://files.abovetopsecret.com/images/ats4.jpg\n",
      "http://files.abovetopsecret.com/images/ats5.jpg\n",
      "http://files.abovetopsecret.com/images/ats17.jpg\n",
      "http://files.abovetopsecret.com/images/ats9.jpg\n",
      "http://files.abovetopsecret.com/images/ats4.jpg\n",
      "http://files.abovetopsecret.com/images/ats13.jpg\n",
      "http://files.abovetopsecret.com/images/ats13.jpg\n",
      "http://files.abovetopsecret.com/images/ats5.jpg\n",
      "http://files.abovetopsecret.com/images/ats9.jpg\n",
      "http://files.abovetopsecret.com/images/ats11.jpg\n",
      "http://files.abovetopsecret.com/images/ats13.jpg\n",
      "http://files.abovetopsecret.com/images/ats14.jpg\n",
      "http://files.abovetopsecret.com/images/ats17.jpg\n",
      "http://files.abovetopsecret.com/images/ats2.jpg\n",
      "http://files.abovetopsecret.com/images/ats18.jpg\n",
      "http://files.abovetopsecret.com/images/ats13.jpg\n",
      "http://files.abovetopsecret.com/images/ats1.jpg\n",
      "http://files.abovetopsecret.com/images/ats2.jpg\n",
      "http://files.abovetopsecret.com/images/ats11.jpg\n",
      "http://files.abovetopsecret.com/images/ats12.jpg\n",
      "http://files.abovetopsecret.com/images/ats7.jpg\n",
      "http://files.abovetopsecret.com/images/ats4.jpg\n",
      "http://files.abovetopsecret.com/images/ats8.jpg\n",
      "http://files.abovetopsecret.com/images/ats13.jpg\n",
      "http://files.abovetopsecret.com/images/ats6.jpg\n",
      "http://files.abovetopsecret.com/images/ats17.jpg\n",
      "http://files.abovetopsecret.com/images/ats3.jpg\n",
      "http://files.abovetopsecret.com/images/ats16.jpg\n",
      "http://files.abovetopsecret.com/images/ats15.jpg\n",
      "http://files.abovetopsecret.com/images/ats14.jpg\n",
      "http://files.abovetopsecret.com/images/ats13.jpg\n",
      "http://files.abovetopsecret.com/images/ats2.jpg\n",
      "http://files.abovetopsecret.com/images/ats15.jpg\n",
      "http://files.abovetopsecret.com/images/ats12.jpg\n",
      "http://files.abovetopsecret.com/images/ats16.jpg\n",
      "http://files.abovetopsecret.com/images/ats14.jpg\n",
      "http://files.abovetopsecret.com/images/ats14.jpg\n",
      "http://files.abovetopsecret.com/images/ats13.jpg\n",
      "http://files.abovetopsecret.com/images/ats12.jpg\n",
      "https://adobochroniclesdotcom.files.wordpress.com/2013/10/image16.jpg\n",
      "https://adobochroniclesdotcom.files.wordpress.com/2016/10/img_6705.jpg\n",
      "https://adobochroniclesdotcom.files.wordpress.com/2016/10/img_6726.jpg\n",
      "https://adobochroniclesdotcom.files.wordpress.com/2016/08/image24.jpeg\n",
      "https://adobochroniclesdotcom.files.wordpress.com/2016/06/image8.jpeg\n",
      "https://adobochroniclesdotcom.files.wordpress.com/2016/11/img_6773.jpg\n",
      "https://adobochroniclesdotcom.files.wordpress.com/2016/02/image.jpeg\n",
      "https://adobochroniclesdotcom.files.wordpress.com/2014/09/filfoods.jpg?w=474\n",
      "https://adobochroniclesdotcom.files.wordpress.com/2016/11/img_6937.jpg\n",
      "https://adobochroniclesdotcom.files.wordpress.com/2016/11/img_6994.jpg\n",
      "https://adobochroniclesdotcom.files.wordpress.com/2016/11/img_7188.jpg\n",
      "https://adobochroniclesdotcom.files.wordpress.com/2013/06/image1.jpg\n",
      "https://adobochroniclesdotcom.files.wordpress.com/2016/11/img_7221.jpg\n",
      "http://ahtribune.com/images/media/Hillary_Clinton_12_e693f.jpg\n"
     ]
    },
    {
     "name": "stdout",
     "output_type": "stream",
     "text": [
      "http://ahtribune.com/images/media/ISIS_Hammam_c0a76.jpg\n",
      "http://ahtribune.com/images/media/Hillary_Clinton_13_4f87e.jpg\n",
      "http://ahtribune.com/images/media/Borkan_79326.jpg\n",
      "http://ahtribune.com/images/media/ISIS_Electrocution_6072b.jpg\n",
      "http://ahtribune.com/images/media/Clinton_Trump_0ceea.jpg\n",
      "http://ahtribune.com/images/media/Abdullah_Muhammad_al-Muhaysini_fad61.jpg\n",
      "http://ahtribune.com/images/media/Turkey_PKK_e0749.JPG\n",
      "http://ahtribune.com/images/media/Turkey_PKK_e0749.JPG\n",
      "http://ahtribune.com/images/media/King_Abdullah_Sports_City_Stadium_aa588.jpg\n",
      "http://ahtribune.com/images/media/Hillary_Clinton_India_4cf5c.jpg\n",
      "http://ahtribune.com/images/media/isis-shooting-Mosul_ac52a.jpg\n",
      "http://ahtribune.com/images/media/white-helmets_566c9.jpg\n",
      "http://ahtribune.com/images/media/Hillary-FBI_4ccfb.jpg\n",
      "http://ahtribune.com/images/media/Beauty_Products_7acf7.jpg\n",
      "http://ahtribune.com/images/media/DNC_RNC_62753.jpg\n",
      "http://ahtribune.com/images/media/Balfour_Declaration_a9ceb.jpg\n",
      "http://ahtribune.com/images/media/Tony_Hall_on_Mohawk_Territory_cba6f.JPG\n",
      "http://ahtribune.com/images/media/Global_Warming_ee550.jpg\n",
      "http://ahtribune.com/images/media/Iraqi_Soldier_Family_Mosul_737bc.jpg\n",
      "http://ahtribune.com/images/media/Hillary_Rodham_Clinton_48f54.jpg\n",
      "http://ahtribune.com/images/media/Hillary_Clinton_Ann_Garisson_9b325.jpg\n",
      "http://ahtribune.com/images/media/Prince_Abdullah_Al-Saud_d8671.JPG\n",
      "http://ahtribune.com/images/media/Mosul_Civilians_83b52.jpg\n",
      "http://ahtribune.com/images/media/CETA_46047.jpg\n",
      "http://ahtribune.com/images/media/palestine_soccer_9c8c2.jpg\n",
      "http://ahtribune.com/images/media/Abu_Mahdi_al-Mohandes_6e0a2.jpg\n",
      "http://ahtribune.com/images/media/ISIS_Dogs_972c6.jpg\n",
      "http://ahtribune.com/images/media/Julian_Assange_cfc6d.jpg\n",
      "http://ahtribune.com/images/media/School_Privatization_b90fa.jpg\n",
      "http://ahtribune.com/images/Mujahid_Kamran_53382.jpg\n",
      "http://ahtribune.com/images/media/Donald_Trump_President_31de9.jpg\n",
      "http://ahtribune.com/images/media/Arbaeen_Iraq_9b04b.jpg\n",
      "http://ahtribune.com/images/media/lethbridge_d3229.jpg\n",
      "http://ahtribune.com/images/media/Israel_America_aeee7.jpg\n",
      "http://ahtribune.com/images/media/ISIS_Threatens_Russia_fe57b.jpg\n",
      "http://ahtribune.com/images/media/Protest_against_Donald_Trump_f9e6a.jpg\n",
      "http://ahtribune.com/images/media/Protest_against_Donald_Trump_2_22585.jpg\n",
      "http://ahtribune.com/images/media/BrianCloughley_77db3.jpg\n",
      "http://ahtribune.com/images/media/Hasan_Beigi_bebf7.jpg\n",
      "http://ahtribune.com/images/media/John_Locke_8f9bf.jpg\n",
      "http://ahtribune.com/images/media/Admiral_Kuznetsov_39bc5.jpg\n",
      "http://ahtribune.com/images/media/Ravina_Shamdasani_b2523.jpg\n",
      "http://ahtribune.com/images/media/Donald_J._Trump_149fc.jpg\n",
      "http://ahtribune.com/images/media/Xi_Jinping_2_ba318.jpg\n",
      "http://ahtribune.com/images/American_Islam_c1567.jpg\n",
      "http://ahtribune.com/images/media/Anti_Trump_Protests_23a57.jpg\n",
      "http://ahtribune.com/images/media/Khalid_al-Falih_d3b9e.jpg\n",
      "http://ahtribune.com/images/media/lethbridge_herald_1b6cc.png\n",
      "http://ahtribune.com/images/media/40_Messenger_37059.png\n",
      "http://ahtribune.com/images/media/Donald_Trump_8_b220a.jpg\n",
      "http://ahtribune.com/images/media/Taksim_Square_7fa31.jpg\n",
      "http://ahtribune.com/images/media/Aleppo_Syrian_Army_1c7c7.jpg\n",
      "http://ahtribune.com/images/media/isis_kirkuk_tree_759c3.jpg\n",
      "http://ahtribune.com/images/media/Sergei_Shoigu_690a3.jpg\n",
      "http://ahtribune.com/images/media/Arbaeen_2016_374aa.jpg\n",
      "http://ahtribune.com/images/media/iraqi_forces_365f0.jpg\n",
      "http://ahtribune.com/images/media/isis_sufi_5c556.jpg\n",
      "http://ahtribune.com/images/media/Mark_Zuckerberg_54968.jpg\n",
      "http://ahtribune.com/images/media/Anthony_Hall_Lecturing_0e201.jpg\n",
      "http://ahtribune.com/images/media/Arbaeen_ISIS_6a930.jpg\n",
      "http://ahtribune.com/images/Operations_Room_31833.jpg\n",
      "http://ahtribune.com/images/media/Wayne_Madsen_682bc.jpg\n",
      "http://ahtribune.com/images/media/Donald_Trumo_Oil_on_Canvas_a8283.jpg\n",
      "http://ahtribune.com/images/media/Borut_Pahor_Iran_751d9.jpg\n",
      "http://ahtribune.com/images/media/Tiffany_Trump_8cc5f.jpg\n",
      "http://ahtribune.com/images/media/Egyptian_Air_Force_078ab.jpg\n",
      "http://www.amtvmedia.com/wp-content/uploads/2016/10/zxchaaaaaaaaaaaaaaaaaaah-676x450.png\n",
      "http://www.amtvmedia.com/wp-content/uploads/2016/10/mad-joe-biden.jpg\n",
      "http://www.amtvmedia.com/wp-content/uploads/2016/10/a-brief-history-of-scientists-searching-for-extraterrestrial-life-511-body-image-1448841875.jpg\n",
      "http://www.amtvmedia.com/wp-content/uploads/2016/10/LYNXNPEC9O1MX.jpg\n",
      "http://www.amtvmedia.com/wp-content/uploads/2016/10/or-37431.jpg\n",
      "http://www.amtvmedia.com/wp-content/uploads/2016/10/TRUMP.jpeg\n",
      "http://www.amtvmedia.com/wp-content/uploads/2016/10/la-1477006617-snap-photo.jpg\n",
      "http://www.amtvmedia.com/wp-content/uploads/2016/10/92102611_medium_ww211056.jpg\n",
      "http://www.amtvmedia.com/wp-content/uploads/2016/10/Screen-shot-2013-08-09-at-8.01.03-AM.jpg\n",
      "http://www.amtvmedia.com/wp-content/uploads/2016/10/39BAD89B00000578-0-image-a-1_1477473629093.jpg\n",
      "http://www.amtvmedia.com/wp-content/uploads/2016/10/gettyimages-455692374.jpg\n",
      "http://www.amtvmedia.com/wp-content/uploads/2016/10/Obama4.png\n",
      "http://www.amtvmedia.com/wp-content/uploads/2016/10/julian333.jpg\n",
      "http://www.amtvmedia.com/wp-content/uploads/2016/10/alexjones.jpg\n",
      "http://www.amtvmedia.com/wp-content/uploads/2016/10/^0D29765E4958FD15368E12279A8B01FE43A543001974A1F2CF^pimgpsh_fullsize_distr.jpg\n",
      "http://www.amtvmedia.com/wp-content/uploads/2016/10/^A936D279204D3BBADFE465ED506B7022CACC5595D7E47FFA12^pimgpsh_fullsize_distr.jpg\n",
      "http://www.amtvmedia.com/wp-content/uploads/2016/10/^133E5CD4FDA575CE0290AF492619F77090C402C2C94F37679F^pimgpsh_fullsize_distr.jpg\n",
      "http://www.amtvmedia.com/wp-content/uploads/2016/10/^60B994C453520DA6A0FA41838AEAE42B31A323B99CF16D60F1^pimgpsh_fullsize_distr.jpg\n",
      "http://www.amtvmedia.com/wp-content/uploads/2016/10/^35435F770AC52776C342BA68A2BEFF83CC4269DE4F295A2986^pimgpsh_fullsize_distr.jpg\n",
      "http://www.amtvmedia.com/wp-content/uploads/2016/10/58170711c36188ab3d8b4567.jpg\n",
      "http://www.amtvmedia.com/wp-content/uploads/2016/10/20161028_occupation_barbecue_dont_shoot_pdx_BP-17_yld9ws.jpg\n",
      "http://www.amtvmedia.com/wp-content/uploads/2016/10/a4a0ca7d-03f6-4b58-a858-7b44fa2c7c3c.jpg\n",
      "http://www.amtvmedia.com/wp-content/uploads/2016/10/fox59-background17.jpg\n",
      "http://www.amtvmedia.com/wp-content/uploads/2016/10/1036026365.jpg\n",
      "http://www.amtvmedia.com/wp-content/uploads/2016/10/581338b4c461884e208b4593.jpg\n",
      "http://www.amtvmedia.com/wp-content/uploads/2016/10/City-Abstract-Public-Domain-460x325.jpg\n",
      "http://www.amtvmedia.com/wp-content/uploads/2016/10/corn1.jpg\n",
      "http://www.amtvmedia.com/wp-content/uploads/2016/10/wikileaks-logo-wallpaper.jpg\n",
      "http://www.amtvmedia.com/wp-content/uploads/2016/10/AAjvZXk.jpeg\n",
      "http://www.amtvmedia.com/wp-content/uploads/2016/10/45683114.jpg\n",
      "http://www.amtvmedia.com/wp-content/uploads/2016/11/vanity-fair-new-establishment-summit-day-1.jpg\n",
      "http://www.amtvmedia.com/wp-content/uploads/2016/11/507480.jpg\n",
      "http://www.amtvmedia.com/wp-content/uploads/2016/11/Lavoy_Finicum.jpg\n",
      "http://www.amtvmedia.com/wp-content/uploads/2016/11/Ron-Paul.jpg\n",
      "http://www.amtvmedia.com/wp-content/uploads/2016/11/2016-10-28T181331Z_1_LYNXNPEC9R196_RTROPTP_4_USA-ELECTION-CLINTON-620x413.jpg\n",
      "http://www.amtvmedia.com/wp-content/uploads/2016/11/2016-10-27t22-37-07-466z-1280x720.nbcnews-ux-1240-700.jpg\n",
      "http://www.amtvmedia.com/wp-content/uploads/2016/11/1477867706691.jpg\n",
      "http://www.amtvmedia.com/wp-content/uploads/2016/11/tanks-727622.jpg\n",
      "http://www.amtvmedia.com/wp-content/uploads/2016/11/3ab40b94-1cb7-4c69-be96-d956716c03a5.jpg\n",
      "http://www.amtvmedia.com/wp-content/uploads/2016/11/f2a54edb-e622-4c42-897c-b0a03c59e8d9.jpg\n",
      "http://www.amtvmedia.com/wp-content/uploads/2016/11/8e8a9080-50df-4159-b4c7-634b8eea012d.jpg\n",
      "http://www.amtvmedia.com/wp-content/uploads/2016/11/mark-ruffalo-terrorism.jpg\n",
      "http://www.amtvmedia.com/wp-content/uploads/2016/11/^6330B0C21C3D34B4051B5A40B909E3E2B0D560D02C40BF557D^pimgpsh_fullsize_distr.jpg\n",
      "http://www.amtvmedia.com/wp-content/uploads/2016/11/^C86B94772A447D8153CD1A29CA6E308B7B58A79CC3D602C6D4^pimgpsh_fullsize_distr.jpg\n",
      "http://www.amtvmedia.com/wp-content/uploads/2016/11/1040913389.jpg\n",
      "http://www.amtvmedia.com/wp-content/uploads/2016/11/581787bec46188db298b45b4.jpg\n",
      "http://www.amtvmedia.com/wp-content/uploads/2016/11/58173f89c3618814488b4610.jpg\n"
     ]
    },
    {
     "name": "stdout",
     "output_type": "stream",
     "text": [
      "http://www.amtvmedia.com/wp-content/uploads/2016/11/DEM-2016-Convention-F_phil-ap-676x450.jpg\n",
      "http://www.amtvmedia.com/wp-content/uploads/2016/11/clip_image001_thumb2.jpg\n",
      "http://www.amtvmedia.com/wp-content/uploads/2016/11/FOREIGN201609221412000466856985734-768x512.jpg\n",
      "http://www.amtvmedia.com/wp-content/uploads/2016/11/5813c33d190000ec02c2fb08.jpeg\n",
      "http://www.amtvmedia.com/wp-content/uploads/2016/11/29906170001_5193548811001_VPCNOW-DES-MOINES-POLICE-SHOOTING-PHOTO.png\n",
      "http://www.amtvmedia.com/wp-content/uploads/2016/11/21439794-mmmain.jpg\n",
      "http://www.amtvmedia.com/wp-content/uploads/2016/11/hillary-yelling.jpg\n",
      "http://www.amtvmedia.com/wp-content/uploads/2016/11/download.jpeg\n",
      "http://www.amtvmedia.com/wp-content/uploads/2016/11/^641A05DAD2314C04DF5729F246E0A3CE0A82712ADA326651EB^pimgpsh_fullsize_distr.jpg\n",
      "http://www.amtvmedia.com/wp-content/uploads/2016/11/article-doc-hq4yp-vCzQrrGoE078947232bf09aa4ef-869_634x427.jpg\n",
      "http://www.amtvmedia.com/wp-content/uploads/2016/11/58190223c36188ce358b4614.jpg\n",
      "http://www.amtvmedia.com/wp-content/uploads/2016/11/rogerWaters.jpg\n",
      "http://www.amtvmedia.com/wp-content/uploads/2016/11/DAPL-rubber-bullets_1478191133143_6732759_ver1.0.jpg\n",
      "http://www.amtvmedia.com/wp-content/uploads/2016/11/GettyImages-460497956-676x450.jpg\n",
      "http://www.amtvmedia.com/wp-content/uploads/2016/11/581b06c4c46188051c8b45aa.jpg\n",
      "http://www.amtvmedia.com/wp-content/uploads/2016/11/29906170001_5195287185001_5195147462001-vs.jpg\n",
      "http://www.amtvmedia.com/wp-content/uploads/2016/11/581b2b7fc461880b1c8b467c.png\n",
      "http://www.amtvmedia.com/wp-content/uploads/2016/11/227fa959-ca8c-4737-91d1-1773f930064f.jpg\n",
      "http://www.amtvmedia.com/wp-content/uploads/2016/11/rtx2rls7edit_custom-22f44e631e1358967ba6daeb39fc172f5b15242b-s1300-c85.jpg\n",
      "http://www.amtvmedia.com/wp-content/uploads/2016/11/^294607A164A9F5A8A0164B7F0C4330A3537F09AF4CDB30D4F5^pimgpsh_fullsize_distr.jpg\n",
      "http://www.amtvmedia.com/wp-content/uploads/2016/11/bethnakamurajpg-265ea83b6c276579.jpg\n",
      "http://www.amtvmedia.com/wp-content/uploads/2016/11/IMC1019.jpg\n",
      "http://www.amtvmedia.com/wp-content/uploads/2016/11/^516E4811A794AF675C857856DE2BA3B89B661DD5D634F25476^pimgpsh_fullsize_distr.jpg\n",
      "http://www.amtvmedia.com/wp-content/uploads/2016/11/^47616041B92D6455F843492A99E8C1AD5D6BC30241469D590E^pimgpsh_fullsize_distr.jpg\n",
      "http://www.amtvmedia.com/wp-content/uploads/2016/11/^F29A9D6A69D451ABA8A7561F4FDB2001C0F1D738D987C2E53D^pimgpsh_fullsize_distr.jpg\n",
      "http://www.amtvmedia.com/wp-content/uploads/2016/10/votehere2.jpg\n",
      "http://www.amtvmedia.com/wp-content/uploads/2016/11/516288-the-wind-spacecraft-space-magnetic-field-magnetosphere-earth-solar-wind-nasa.jpg\n",
      "http://www.amtvmedia.com/wp-content/uploads/2016/11/091816terrorism2hs.jpg\n",
      "http://www.amtvmedia.com/wp-content/uploads/2016/11/^F04EF997486A3AE26ADE33989E218081943C7C111A00E83658^pimgpsh_fullsize_distr.jpg\n",
      "http://www.amtvmedia.com/wp-content/uploads/2016/11/636139958247519037-AP-Campaign-2016-Trump-001.jpg\n",
      "http://www.amtvmedia.com/wp-content/uploads/2016/11/whore-667x381.jpg\n",
      "http://www.amtvmedia.com/wp-content/uploads/2016/11/1040324467.jpg\n",
      "http://www.amtvmedia.com/wp-content/uploads/2016/11/Election-Civil-War.jpg\n",
      "http://www.amtvmedia.com/wp-content/uploads/2016/11/rs-229194-R1256_FEA_GOP_C.jpg\n",
      "http://www.amtvmedia.com/wp-content/uploads/2016/11/trump-scnshot1.jpg\n",
      "http://www.amtvmedia.com/wp-content/uploads/2016/11/582096a9c46188d83d8b465c.jpg\n",
      "http://www.amtvmedia.com/wp-content/uploads/2016/11/68dca318-2e7c-455f-980c-64a1ff3d86f5.jpg\n",
      "http://www.amtvmedia.com/wp-content/uploads/2016/11/ap04041306797_wide-3b32aeee98f9b05524d232d32b05fd9f16f2dee9-s800-c85.jpg\n",
      "http://www.amtvmedia.com/wp-content/uploads/2016/11/oklahoma-quake.jpg\n",
      "http://www.amtvmedia.com/wp-content/uploads/2016/11/Las-Vegas-HD-Pics-04173-990x556.jpg\n",
      "http://www.amtvmedia.com/wp-content/uploads/2016/11/1147882.jpg\n",
      "http://www.amtvmedia.com/wp-content/uploads/2016/11/c23a7d3b-4225-41b0-a9d7-6cfc6f99eac5.jpg\n",
      "http://www.amtvmedia.com/wp-content/uploads/2016/11/^28E95437BCA0095AA9138357F8C482DD17771DFC98D96D2EC0^pimgpsh_fullsize_distr.jpg\n",
      "http://www.amtvmedia.com/wp-content/uploads/2016/11/74f7cc6254e2f30ed8f738bc9279f5e8.jpg\n",
      "http://www.amtvmedia.com/wp-content/uploads/2016/11/topless-protesters-trump.jpg\n",
      "http://www.amtvmedia.com/wp-content/uploads/2016/11/0005794F00000C1D-3915886-image-a-10_1478595771806.jpg\n",
      "http://www.amtvmedia.com/wp-content/uploads/2016/11/img-hillary-vs-trump-dancing-debate-112.jpg\n",
      "http://www.amtvmedia.com/wp-content/uploads/2016/11/963aff_3490162.jpg\n",
      "http://www.amtvmedia.com/wp-content/uploads/2016/11/rs_1024x759-161109051946-1024.Lady-Gaga-Election-Day-JR-110916.jpg\n",
      "http://www.amtvmedia.com/wp-content/uploads/2016/11/1108-trump-tower-dump-trucks-sub-tmz-4.jpg\n",
      "http://www.amtvmedia.com/wp-content/uploads/2016/11/RTX2SQDV-1024x682.jpg\n",
      "http://www.amtvmedia.com/wp-content/uploads/2016/11/donaldtrump-fear.jpg\n",
      "http://www.amtvmedia.com/wp-content/uploads/2016/11/3A23FFB700000578-0-image-a-6_1478632697219.jpg\n",
      "http://www.anonews.co/wp-content/uploads/2016/11/2a99c0e5-d14d-4797-ac68-b30ecde21635-large16x9_ShelbyCountyexplosionfire.png.jpg\n",
      "http://www.anonews.co/wp-content/uploads/2016/11/cnn_expo_431098-1000x600.jpg\n",
      "http://www.anonews.co/wp-content/uploads/2016/11/NB_19WARREN2AJ_47346553-1000x600.jpg\n",
      "http://www.anonews.co/wp-content/uploads/2016/11/Twitter-Hole-featured-1000x600.jpg\n",
      "http://news.antiwar.com/wp-content/uploads/2016/10/ghor.png\n",
      "http://news.antiwar.com/wp-content/uploads/2012/07/syria18.gif\n",
      "http://news.antiwar.com/wp-content/uploads/2010/10/europe.jpg\n",
      "http://news.antiwar.com/wp-content/uploads/2009/10/aqsa.jpg\n",
      "http://news.antiwar.com/wp-content/uploads/2013/04/cu-map.gif\n",
      "http://news.antiwar.com/wp-content/uploads/2009/08/yemen.gif\n",
      "http://news.antiwar.com/wp-content/uploads/2012/04/iraq1.jpg\n",
      "http://news.antiwar.com/wp-content/uploads/2012/07/syria18.gif\n",
      "http://news.antiwar.com/wp-content/uploads/2009/08/yemen.gif\n",
      "http://news.antiwar.com/wp-content/uploads/2009/08/yemen.gif\n",
      "http://news.antiwar.com/wp-content/uploads/2016/08/hillamir.png\n",
      "http://news.antiwar.com/wp-content/uploads/2012/04/iraq1.jpg\n",
      "http://news.antiwar.com/wp-content/uploads/2012/07/syria18.gif\n",
      "http://news.antiwar.com/wp-content/uploads/2010/12/ClintonObama.jpg\n",
      "http://news.antiwar.com/wp-content/uploads/2012/07/syria18.gif\n",
      "http://news.antiwar.com/wp-content/uploads/2012/04/iraq1.jpg\n",
      "http://news.antiwar.com/wp-content/uploads/2012/07/syria18.gif\n",
      "http://news.antiwar.com/wp-content/uploads/2009/07/afghan0.jpg\n",
      "http://news.antiwar.com/wp-content/uploads/2012/09/putin.jpg\n",
      "http://news.antiwar.com/wp-content/uploads/2012/07/syria18.gif\n",
      "http://news.antiwar.com/wp-content/uploads/2012/04/54145268__48951920_south_china-sea_1_466-1.gif\n",
      "http://news.antiwar.com/wp-content/uploads/2012/04/iraq1.jpg\n",
      "http://news.antiwar.com/wp-content/uploads/2012/04/iraq1.jpg\n",
      "http://news.antiwar.com/wp-content/uploads/2012/04/iraq1.jpg\n",
      "http://news.antiwar.com/wp-content/uploads/2009/08/yemen.gif\n",
      "http://news.antiwar.com/wp-content/uploads/2009/07/afghan.gif\n",
      "http://news.antiwar.com/wp-content/uploads/2011/02/syemen.jpg\n",
      "http://news.antiwar.com/wp-content/uploads/2009/08/yemen.gif\n",
      "http://news.antiwar.com/wp-content/uploads/2012/07/syria18.gif\n",
      "http://news.antiwar.com/wp-content/uploads/2012/04/iraq1.jpg\n",
      "http://news.antiwar.com/wp-content/uploads/2012/04/iraq1.jpg\n",
      "http://news.antiwar.com/wp-content/uploads/2012/04/iraq1.jpg\n",
      "http://news.antiwar.com/wp-content/uploads/2012/07/syria18.gif\n",
      "http://news.antiwar.com/wp-content/uploads/2009/07/afghan.gif\n",
      "http://news.antiwar.com/wp-content/uploads/2012/04/iraq1.jpg\n",
      "http://news.antiwar.com/wp-content/uploads/2012/07/syria18.gif\n",
      "http://news.antiwar.com/wp-content/uploads/2011/11/Russia.png\n",
      "http://news.antiwar.com/wp-content/uploads/2009/08/yemen.gif\n",
      "http://news.antiwar.com/wp-content/uploads/2012/04/iraq1.jpg\n",
      "http://news.antiwar.com/wp-content/uploads/2012/04/iraq1.jpg\n",
      "http://news.antiwar.com/wp-content/uploads/2012/04/pakistan.jpg\n",
      "http://news.antiwar.com/wp-content/uploads/2012/07/syria18.gif\n",
      "http://news.antiwar.com/wp-content/uploads/2012/07/syria18.gif\n",
      "http://news.antiwar.com/wp-content/uploads/2012/07/syria18.gif\n",
      "http://news.antiwar.com/wp-content/uploads/2011/05/Turkey_map.jpg\n",
      "http://news.antiwar.com/wp-content/uploads/2011/09/fbi_building.jpg\n"
     ]
    },
    {
     "name": "stdout",
     "output_type": "stream",
     "text": [
      "http://news.antiwar.com/wp-content/uploads/2012/04/iraq1.jpg\n",
      "http://news.antiwar.com/wp-content/uploads/2009/04/pentagon.jpg\n",
      "http://news.antiwar.com/wp-content/uploads/2012/07/syria18.gif\n",
      "http://news.antiwar.com/wp-content/uploads/2012/07/syria18.gif\n",
      "http://news.antiwar.com/wp-content/uploads/2012/04/iraq1.jpg\n",
      "http://news.antiwar.com/wp-content/uploads/2012/04/iraq1.jpg\n",
      "http://news.antiwar.com/wp-content/uploads/2013/02/anders.jpg\n",
      "http://news.antiwar.com/wp-content/uploads/2014/04/newkraine.png\n",
      "http://news.antiwar.com/wp-content/uploads/2012/04/pakistan.jpg\n",
      "http://news.antiwar.com/wp-content/uploads/2009/07/afghan.gif\n",
      "http://news.antiwar.com/wp-content/uploads/2010/06/assange.jpg\n",
      "http://news.antiwar.com/wp-content/uploads/2012/07/syria18.gif\n",
      "http://news.antiwar.com/wp-content/uploads/2012/07/syria18.gif\n",
      "http://news.antiwar.com/wp-content/uploads/2012/04/iraq1.jpg\n",
      "http://news.antiwar.com/wp-content/uploads/2012/04/iraq1.jpg\n",
      "http://news.antiwar.com/wp-content/uploads/2012/07/syria18.gif\n",
      "http://news.antiwar.com/wp-content/uploads/2009/08/yemen.gif\n",
      "http://news.antiwar.com/wp-content/uploads/2012/04/iraq1.jpg\n",
      "http://news.antiwar.com/wp-content/uploads/2010/09/jordan-map.gif\n",
      "http://news.antiwar.com/wp-content/uploads/2011/11/Russia.png\n",
      "http://news.antiwar.com/wp-content/uploads/2009/07/afghan.gif\n",
      "http://news.antiwar.com/wp-content/uploads/2012/08/Obama-troubled.jpg\n",
      "http://news.antiwar.com/wp-content/uploads/2012/04/iraq1.jpg\n",
      "http://news.antiwar.com/wp-content/uploads/2009/07/afghan.gif\n",
      "http://www.barenakedislam.com/wp-content/uploads/2016/10/ab5860e164e24fa69f563ad1e16591ba.jpg\n",
      "http://www.barenakedislam.com/wp-content/uploads/2016/10/303D332200000578-0-image-a-39_1452981823556.jpg\n",
      "http://img.youtube.com/vi/sHCul_DIM_4/0.jpg\n",
      "http://img.youtube.com/vi/B9F1tXU43hk/0.jpg\n",
      "http://www.barenakedislam.com/wp-content/uploads/2016/10/sShariaLawInTexasSuchABadThing-vi.jpg\n",
      "http://www.barenakedislam.com/wp-content/uploads/2016/10/172-800x254-1-800x254.jpg\n",
      "http://www.barenakedislam.com/wp-content/uploads/2016/10/061.jpg\n",
      "http://img.youtube.com/vi/gBSRIqyZN_s/0.jpg\n",
      "http://www.barenakedislam.com/wp-content/uploads/2016/10/migrants-725855.jpg\n",
      "http://www.barenakedislam.com/wp-content/uploads/2016/10/cIndoctrinationinPublicSchools-vi-e1477588629628.png\n",
      "http://img.youtube.com/vi/kbiZUMirPAQ/0.jpg\n",
      "http://www.barenakedislam.com/wp-content/uploads/2016/10/na-hamtramck.jpg\n",
      "http://img.youtube.com/vi/Ij8PH9nDT-o/0.jpg\n",
      "http://img.youtube.com/vi/s0VZH7f8sP0/0.jpg\n",
      "http://img.youtube.com/vi/K2VjiY_IZDk/0.jpg\n",
      "http://img.youtube.com/vi/eR0-Jp4TyIE/0.jpg\n",
      "http://www.barenakedislam.com/wp-content/uploads/2016/10/yiede-vi.jpg\n",
      "http://www.barenakedislam.com/wp-content/uploads/2016/10/maxresdefault-e13753855622951.jpg\n",
      "http://img.youtube.com/vi/QvthZlRogQk/0.jpg\n",
      "http://www.barenakedislam.com/wp-content/uploads/2016/10/abedinifamily_25007982_ver1.0_640_480.jpg\n",
      "http://www.barenakedislam.com/wp-content/uploads/2016/10/39DA979B00000578-3885618-image-a-9_1477764049483.jpg\n",
      "http://www.barenakedislam.com/wp-content/uploads/2016/10/immigratiA.jpg\n",
      "http://img.youtube.com/vi/QAPgh2V_mGQ/0.jpg\n",
      "http://img.youtube.com/vi/ApzTgvYwCOw/0.jpg\n",
      "http://www.barenakedislam.com/wp-content/uploads/2016/10/muslim-spitting-on-swedish-woman-james-wood-tweet.png\n",
      "http://www.barenakedislam.com/wp-content/uploads/2016/10/mosque-visit.jpg\n",
      "http://www.barenakedislam.com/wp-content/uploads/2016/10/GOP-mailer-2.jpeg\n",
      "http://img.youtube.com/vi/ngZ70KqVV6w/0.jpg\n",
      "http://img.youtube.com/vi/EXxebLYZk9o/0.jpg\n",
      "http://www.barenakedislam.com/wp-content/uploads/2016/10/c3CaIuO-e1451297122837.jpg\n",
      "http://img.youtube.com/vi/v4AWhkKjUHQ/0.jpg\n",
      "http://www.barenakedislam.com/wp-content/uploads/2016/10/39E9DE3B00000578-3890046-image-m-2_1477926572326.jpg\n",
      "http://www.barenakedislam.com/wp-content/uploads/2016/10/maxresdefault-12-e14381947727741.jpg\n",
      "http://img.youtube.com/vi/s0VZH7f8sP0/0.jpg\n",
      "http://www.barenakedislam.com/wp-content/uploads/2016/10/racism-police-migrant-party-726398.jpg\n",
      "http://www.barenakedislam.com/wp-content/uploads/2016/10/ByfDjrmIIAE2Izf1.png-large1.png\n",
      "http://img.youtube.com/vi/dqNRXXoJsBY/0.jpg\n",
      "http://www.barenakedislam.com/wp-content/uploads/2016/11/toreceivemorebenifits31_7_2012-vi.png\n",
      "http://www.barenakedislam.com/wp-content/uploads/2016/11/rmuslimschoolprayerlarge5701-vi.jpg\n",
      "http://img.youtube.com/vi/ov5kvWSz5LM/0.jpg\n",
      "http://img.youtube.com/vi/eUZXKNSuzeU/0.jpg\n",
      "http://img.youtube.com/vi/m-ra2ITfyjw/0.jpg\n",
      "http://www.barenakedislam.com/wp-content/uploads/2016/11/italy-refugees.png\n",
      "http://www.barenakedislam.com/wp-content/uploads/2016/11/hillary-huma-sex-ring.jpg\n",
      "http://img.youtube.com/vi/oIObqf4a8q0/0.jpg\n",
      "http://www.barenakedislam.com/wp-content/uploads/2016/11/wptv_islamic_center_boynton-vandalism_1478121132610_49050482_ver1.0_640_480.jpg\n",
      "http://www.barenakedislam.com/wp-content/uploads/2016/11/s-l1000-e1478135264246.jpg\n",
      "http://img.youtube.com/vi/wjvFhGH2eyo/0.jpg\n",
      "http://img.youtube.com/vi/5uMQZnQR1TU/0.jpg\n",
      "http://www.barenakedislam.com/wp-content/uploads/2016/11/trump_mock.jpg\n",
      "http://img.youtube.com/vi/U66NkbEmkmY/0.jpg\n",
      "http://img.youtube.com/vi/iHN1zphlBTI/0.jpg\n",
      "http://www.barenakedislam.com/wp-content/uploads/2016/11/IMG_5738-640x480.jpg\n",
      "http://www.barenakedislam.com/wp-content/uploads/2016/11/Merkel-koran-725651.jpg\n",
      "http://img.youtube.com/vi/UgcxGFmYyPs/0.jpg\n",
      "http://www.barenakedislam.com/wp-content/uploads/2016/11/172-800x254-1-800x254.jpg\n",
      "http://img.youtube.com/vi/7ELh5o1BAdA/0.jpg\n",
      "http://img.youtube.com/vi/0ktchDCoLek/0.jpg\n",
      "http://www.barenakedislam.com/wp-content/uploads/2016/11/2E7EA9F000000578-3320070-image-m-48_1447677980066-800x556.jpg\n",
      "http://img.youtube.com/vi/yjyiblVVGYM/0.jpg\n",
      "http://www.barenakedislam.com/wp-content/uploads/2016/11/hindus-killed-by-muslims-hindu-islam.jpg\n",
      "http://img.youtube.com/vi/xzlMFU9Ovmg/0.jpg\n",
      "http://img.youtube.com/vi/duuOI3MlY8M/0.jpg\n",
      "http://img.youtube.com/vi/aDMZRiYrcuE/0.jpg\n",
      "http://www.barenakedislam.com/wp-content/uploads/2016/11/shutterstock_222204877.jpg\n",
      "http://www.barenakedislam.com/wp-content/uploads/2016/11/14889853_1327500537268732_2350422579670049954_o-copy-1.jpg\n",
      "http://img.youtube.com/vi/tDBik7YiZOY/0.jpg\n",
      "http://www.barenakedislam.com/wp-content/uploads/2016/11/black-trump-supporter-800x416-800x416.png\n",
      "http://www.barenakedislam.com/wp-content/uploads/2016/11/Hillary-Clinton’s-Email-–-Saudi-and-Qatar-Sponsor-ISIL.jpg\n",
      "http://img.youtube.com/vi/q1C2cXdFHoo/0.jpg\n",
      "http://img.youtube.com/vi/NcRgUtapQl8/0.jpg\n",
      "http://www.barenakedislam.com/wp-content/uploads/2016/11/refugee-crisis-357690-800x450.jpg\n",
      "http://www.barenakedislam.com/wp-content/uploads/2016/11/Poll_110616.jpg\n",
      "http://www.barenakedislam.com/wp-content/uploads/2016/11/3A1DDA4500000578-3910096-image-a-47_1478443765293.jpg\n",
      "http://www.barenakedislam.com/wp-content/uploads/2016/11/SomalisDontPay.jpg\n",
      "http://www.barenakedislam.com/wp-content/uploads/2016/11/gocmen-main.jpg\n",
      "http://www.barenakedislam.com/wp-content/uploads/2016/11/reliability-of-the-bible-58-638.jpg\n",
      "http://img.youtube.com/vi/tBJvv9WXOxQ/0.jpg\n",
      "http://www.barenakedislam.com/wp-content/uploads/2016/11/isis2_110616012405.jpg\n",
      "http://www.cityfarmer.info/wp-content/uploads/2016/10/woolg.jpg\n",
      "http://scienceblogs.com/startswithabang/files/2016/10/rotationcurves1-1200x1500-600x750.jpg\n",
      "http://feeds.feedburner.com/~r/PinoyTechBlog/~4/wWxJbfvyuuk\n",
      "http://www.fletcherarmstrongblog.com/wp-content/uploads/2016/09/good-choice-bad-choice-dpc-resized-300x225.jpg\n",
      "http://theeconomiccollapseblog.com/wp-content/uploads/2016/10/Vote-With-Check-Mark-Public-Domain-460x303.png\n",
      "http://media.breitbart.com/media/2016/10/billeyes-640x480.png\n",
      "http://survivalcommonsense.com/wp-content/uploads/2016/10/hawk-300x136.jpg\n",
      "http://i2.wp.com/shtfplan.com/wp-content/uploads/2016/05/election.jpg?resize=453%2C229\n",
      "http://media.breitbart.com/media/2016/10/Scott-Foval-Project-Veritas-Screenshot.jpg\n",
      "http://feeds.feedburner.com/~ff/CafeHayek?d=yIl2AUoC8zA\n",
      "http://scienceblogs.com/gregladen/files/2016/10/Screen-Shot-2016-10-26-at-11.34.33-AM-610x471.png\n",
      "http://feeds.feedburner.com/~r/blogspot/zklEV/~4/9MjRhkXSN-k\n",
      "http://www.thedailysheeple.com/wp-content/uploads/2016/10/Woman-Kneels-For-Anthem.png\n",
      "http://reddragonleo.com/media/1x-1-3.png\n",
      "https://pixel.wp.com/b.gif?host=nebraskaenergyobserver.wordpress.com&blog=25147582&post=19949&subd=nebraskaenergyobserver&ref=&feed=1\n"
     ]
    },
    {
     "name": "stdout",
     "output_type": "stream",
     "text": [
      "https://pixel.wp.com/b.gif?host=danieljmitchell.wordpress.com&blog=6571774&post=34981&subd=danieljmitchell&ref=&feed=1\n",
      "http://www.thedailysheeple.com/wp-content/uploads/2016/10/NSA-spying-in-your-computer.jpg\n",
      "http://s3-us-west-2.amazonaws.com/sleuthjournal/wp-content/uploads/2016/10/25160224/Double-Take-Hillary-Clinton-A-Reading-List-1200-1024x715.jpg\n",
      "http://feeds.feedburner.com/~r/blogspot/zklEV/~4/vPqZz4Ct8sk\n"
     ]
    },
    {
     "ename": "ConnectionError",
     "evalue": "HTTPConnectionPool(host='http', port=80): Max retries exceeded with url: //http://http://http://http://http://http://http://http:///modules/file/icons/application-pdf.png (Caused by NewConnectionError('<urllib3.connection.HTTPConnection object at 0x11c882d68>: Failed to establish a new connection: [Errno 8] nodename nor servname provided, or not known',))",
     "output_type": "error",
     "traceback": [
      "\u001b[0;31m---------------------------------------------------------------------------\u001b[0m",
      "\u001b[0;31mgaierror\u001b[0m                                  Traceback (most recent call last)",
      "\u001b[0;32m~/anaconda3/envs/py36/lib/python3.6/site-packages/urllib3/connection.py\u001b[0m in \u001b[0;36m_new_conn\u001b[0;34m(self)\u001b[0m\n\u001b[1;32m    170\u001b[0m             conn = connection.create_connection(\n\u001b[0;32m--> 171\u001b[0;31m                 (self._dns_host, self.port), self.timeout, **extra_kw)\n\u001b[0m\u001b[1;32m    172\u001b[0m \u001b[0;34m\u001b[0m\u001b[0m\n",
      "\u001b[0;32m~/anaconda3/envs/py36/lib/python3.6/site-packages/urllib3/util/connection.py\u001b[0m in \u001b[0;36mcreate_connection\u001b[0;34m(address, timeout, source_address, socket_options)\u001b[0m\n\u001b[1;32m     55\u001b[0m \u001b[0;34m\u001b[0m\u001b[0m\n\u001b[0;32m---> 56\u001b[0;31m     \u001b[0;32mfor\u001b[0m \u001b[0mres\u001b[0m \u001b[0;32min\u001b[0m \u001b[0msocket\u001b[0m\u001b[0;34m.\u001b[0m\u001b[0mgetaddrinfo\u001b[0m\u001b[0;34m(\u001b[0m\u001b[0mhost\u001b[0m\u001b[0;34m,\u001b[0m \u001b[0mport\u001b[0m\u001b[0;34m,\u001b[0m \u001b[0mfamily\u001b[0m\u001b[0;34m,\u001b[0m \u001b[0msocket\u001b[0m\u001b[0;34m.\u001b[0m\u001b[0mSOCK_STREAM\u001b[0m\u001b[0;34m)\u001b[0m\u001b[0;34m:\u001b[0m\u001b[0;34m\u001b[0m\u001b[0m\n\u001b[0m\u001b[1;32m     57\u001b[0m         \u001b[0maf\u001b[0m\u001b[0;34m,\u001b[0m \u001b[0msocktype\u001b[0m\u001b[0;34m,\u001b[0m \u001b[0mproto\u001b[0m\u001b[0;34m,\u001b[0m \u001b[0mcanonname\u001b[0m\u001b[0;34m,\u001b[0m \u001b[0msa\u001b[0m \u001b[0;34m=\u001b[0m \u001b[0mres\u001b[0m\u001b[0;34m\u001b[0m\u001b[0m\n",
      "\u001b[0;32m~/anaconda3/envs/py36/lib/python3.6/socket.py\u001b[0m in \u001b[0;36mgetaddrinfo\u001b[0;34m(host, port, family, type, proto, flags)\u001b[0m\n\u001b[1;32m    744\u001b[0m     \u001b[0maddrlist\u001b[0m \u001b[0;34m=\u001b[0m \u001b[0;34m[\u001b[0m\u001b[0;34m]\u001b[0m\u001b[0;34m\u001b[0m\u001b[0m\n\u001b[0;32m--> 745\u001b[0;31m     \u001b[0;32mfor\u001b[0m \u001b[0mres\u001b[0m \u001b[0;32min\u001b[0m \u001b[0m_socket\u001b[0m\u001b[0;34m.\u001b[0m\u001b[0mgetaddrinfo\u001b[0m\u001b[0;34m(\u001b[0m\u001b[0mhost\u001b[0m\u001b[0;34m,\u001b[0m \u001b[0mport\u001b[0m\u001b[0;34m,\u001b[0m \u001b[0mfamily\u001b[0m\u001b[0;34m,\u001b[0m \u001b[0mtype\u001b[0m\u001b[0;34m,\u001b[0m \u001b[0mproto\u001b[0m\u001b[0;34m,\u001b[0m \u001b[0mflags\u001b[0m\u001b[0;34m)\u001b[0m\u001b[0;34m:\u001b[0m\u001b[0;34m\u001b[0m\u001b[0m\n\u001b[0m\u001b[1;32m    746\u001b[0m         \u001b[0maf\u001b[0m\u001b[0;34m,\u001b[0m \u001b[0msocktype\u001b[0m\u001b[0;34m,\u001b[0m \u001b[0mproto\u001b[0m\u001b[0;34m,\u001b[0m \u001b[0mcanonname\u001b[0m\u001b[0;34m,\u001b[0m \u001b[0msa\u001b[0m \u001b[0;34m=\u001b[0m \u001b[0mres\u001b[0m\u001b[0;34m\u001b[0m\u001b[0m\n",
      "\u001b[0;31mgaierror\u001b[0m: [Errno 8] nodename nor servname provided, or not known",
      "\nDuring handling of the above exception, another exception occurred:\n",
      "\u001b[0;31mNewConnectionError\u001b[0m                        Traceback (most recent call last)",
      "\u001b[0;32m~/anaconda3/envs/py36/lib/python3.6/site-packages/urllib3/connectionpool.py\u001b[0m in \u001b[0;36murlopen\u001b[0;34m(self, method, url, body, headers, retries, redirect, assert_same_host, timeout, pool_timeout, release_conn, chunked, body_pos, **response_kw)\u001b[0m\n\u001b[1;32m    599\u001b[0m                                                   \u001b[0mbody\u001b[0m\u001b[0;34m=\u001b[0m\u001b[0mbody\u001b[0m\u001b[0;34m,\u001b[0m \u001b[0mheaders\u001b[0m\u001b[0;34m=\u001b[0m\u001b[0mheaders\u001b[0m\u001b[0;34m,\u001b[0m\u001b[0;34m\u001b[0m\u001b[0m\n\u001b[0;32m--> 600\u001b[0;31m                                                   chunked=chunked)\n\u001b[0m\u001b[1;32m    601\u001b[0m \u001b[0;34m\u001b[0m\u001b[0m\n",
      "\u001b[0;32m~/anaconda3/envs/py36/lib/python3.6/site-packages/urllib3/connectionpool.py\u001b[0m in \u001b[0;36m_make_request\u001b[0;34m(self, conn, method, url, timeout, chunked, **httplib_request_kw)\u001b[0m\n\u001b[1;32m    353\u001b[0m         \u001b[0;32melse\u001b[0m\u001b[0;34m:\u001b[0m\u001b[0;34m\u001b[0m\u001b[0m\n\u001b[0;32m--> 354\u001b[0;31m             \u001b[0mconn\u001b[0m\u001b[0;34m.\u001b[0m\u001b[0mrequest\u001b[0m\u001b[0;34m(\u001b[0m\u001b[0mmethod\u001b[0m\u001b[0;34m,\u001b[0m \u001b[0murl\u001b[0m\u001b[0;34m,\u001b[0m \u001b[0;34m**\u001b[0m\u001b[0mhttplib_request_kw\u001b[0m\u001b[0;34m)\u001b[0m\u001b[0;34m\u001b[0m\u001b[0m\n\u001b[0m\u001b[1;32m    355\u001b[0m \u001b[0;34m\u001b[0m\u001b[0m\n",
      "\u001b[0;32m~/anaconda3/envs/py36/lib/python3.6/http/client.py\u001b[0m in \u001b[0;36mrequest\u001b[0;34m(self, method, url, body, headers, encode_chunked)\u001b[0m\n\u001b[1;32m   1238\u001b[0m         \u001b[0;34m\"\"\"Send a complete request to the server.\"\"\"\u001b[0m\u001b[0;34m\u001b[0m\u001b[0m\n\u001b[0;32m-> 1239\u001b[0;31m         \u001b[0mself\u001b[0m\u001b[0;34m.\u001b[0m\u001b[0m_send_request\u001b[0m\u001b[0;34m(\u001b[0m\u001b[0mmethod\u001b[0m\u001b[0;34m,\u001b[0m \u001b[0murl\u001b[0m\u001b[0;34m,\u001b[0m \u001b[0mbody\u001b[0m\u001b[0;34m,\u001b[0m \u001b[0mheaders\u001b[0m\u001b[0;34m,\u001b[0m \u001b[0mencode_chunked\u001b[0m\u001b[0;34m)\u001b[0m\u001b[0;34m\u001b[0m\u001b[0m\n\u001b[0m\u001b[1;32m   1240\u001b[0m \u001b[0;34m\u001b[0m\u001b[0m\n",
      "\u001b[0;32m~/anaconda3/envs/py36/lib/python3.6/http/client.py\u001b[0m in \u001b[0;36m_send_request\u001b[0;34m(self, method, url, body, headers, encode_chunked)\u001b[0m\n\u001b[1;32m   1284\u001b[0m             \u001b[0mbody\u001b[0m \u001b[0;34m=\u001b[0m \u001b[0m_encode\u001b[0m\u001b[0;34m(\u001b[0m\u001b[0mbody\u001b[0m\u001b[0;34m,\u001b[0m \u001b[0;34m'body'\u001b[0m\u001b[0;34m)\u001b[0m\u001b[0;34m\u001b[0m\u001b[0m\n\u001b[0;32m-> 1285\u001b[0;31m         \u001b[0mself\u001b[0m\u001b[0;34m.\u001b[0m\u001b[0mendheaders\u001b[0m\u001b[0;34m(\u001b[0m\u001b[0mbody\u001b[0m\u001b[0;34m,\u001b[0m \u001b[0mencode_chunked\u001b[0m\u001b[0;34m=\u001b[0m\u001b[0mencode_chunked\u001b[0m\u001b[0;34m)\u001b[0m\u001b[0;34m\u001b[0m\u001b[0m\n\u001b[0m\u001b[1;32m   1286\u001b[0m \u001b[0;34m\u001b[0m\u001b[0m\n",
      "\u001b[0;32m~/anaconda3/envs/py36/lib/python3.6/http/client.py\u001b[0m in \u001b[0;36mendheaders\u001b[0;34m(self, message_body, encode_chunked)\u001b[0m\n\u001b[1;32m   1233\u001b[0m             \u001b[0;32mraise\u001b[0m \u001b[0mCannotSendHeader\u001b[0m\u001b[0;34m(\u001b[0m\u001b[0;34m)\u001b[0m\u001b[0;34m\u001b[0m\u001b[0m\n\u001b[0;32m-> 1234\u001b[0;31m         \u001b[0mself\u001b[0m\u001b[0;34m.\u001b[0m\u001b[0m_send_output\u001b[0m\u001b[0;34m(\u001b[0m\u001b[0mmessage_body\u001b[0m\u001b[0;34m,\u001b[0m \u001b[0mencode_chunked\u001b[0m\u001b[0;34m=\u001b[0m\u001b[0mencode_chunked\u001b[0m\u001b[0;34m)\u001b[0m\u001b[0;34m\u001b[0m\u001b[0m\n\u001b[0m\u001b[1;32m   1235\u001b[0m \u001b[0;34m\u001b[0m\u001b[0m\n",
      "\u001b[0;32m~/anaconda3/envs/py36/lib/python3.6/http/client.py\u001b[0m in \u001b[0;36m_send_output\u001b[0;34m(self, message_body, encode_chunked)\u001b[0m\n\u001b[1;32m   1025\u001b[0m         \u001b[0;32mdel\u001b[0m \u001b[0mself\u001b[0m\u001b[0;34m.\u001b[0m\u001b[0m_buffer\u001b[0m\u001b[0;34m[\u001b[0m\u001b[0;34m:\u001b[0m\u001b[0;34m]\u001b[0m\u001b[0;34m\u001b[0m\u001b[0m\n\u001b[0;32m-> 1026\u001b[0;31m         \u001b[0mself\u001b[0m\u001b[0;34m.\u001b[0m\u001b[0msend\u001b[0m\u001b[0;34m(\u001b[0m\u001b[0mmsg\u001b[0m\u001b[0;34m)\u001b[0m\u001b[0;34m\u001b[0m\u001b[0m\n\u001b[0m\u001b[1;32m   1027\u001b[0m \u001b[0;34m\u001b[0m\u001b[0m\n",
      "\u001b[0;32m~/anaconda3/envs/py36/lib/python3.6/http/client.py\u001b[0m in \u001b[0;36msend\u001b[0;34m(self, data)\u001b[0m\n\u001b[1;32m    963\u001b[0m             \u001b[0;32mif\u001b[0m \u001b[0mself\u001b[0m\u001b[0;34m.\u001b[0m\u001b[0mauto_open\u001b[0m\u001b[0;34m:\u001b[0m\u001b[0;34m\u001b[0m\u001b[0m\n\u001b[0;32m--> 964\u001b[0;31m                 \u001b[0mself\u001b[0m\u001b[0;34m.\u001b[0m\u001b[0mconnect\u001b[0m\u001b[0;34m(\u001b[0m\u001b[0;34m)\u001b[0m\u001b[0;34m\u001b[0m\u001b[0m\n\u001b[0m\u001b[1;32m    965\u001b[0m             \u001b[0;32melse\u001b[0m\u001b[0;34m:\u001b[0m\u001b[0;34m\u001b[0m\u001b[0m\n",
      "\u001b[0;32m~/anaconda3/envs/py36/lib/python3.6/site-packages/urllib3/connection.py\u001b[0m in \u001b[0;36mconnect\u001b[0;34m(self)\u001b[0m\n\u001b[1;32m    195\u001b[0m     \u001b[0;32mdef\u001b[0m \u001b[0mconnect\u001b[0m\u001b[0;34m(\u001b[0m\u001b[0mself\u001b[0m\u001b[0;34m)\u001b[0m\u001b[0;34m:\u001b[0m\u001b[0;34m\u001b[0m\u001b[0m\n\u001b[0;32m--> 196\u001b[0;31m         \u001b[0mconn\u001b[0m \u001b[0;34m=\u001b[0m \u001b[0mself\u001b[0m\u001b[0;34m.\u001b[0m\u001b[0m_new_conn\u001b[0m\u001b[0;34m(\u001b[0m\u001b[0;34m)\u001b[0m\u001b[0;34m\u001b[0m\u001b[0m\n\u001b[0m\u001b[1;32m    197\u001b[0m         \u001b[0mself\u001b[0m\u001b[0;34m.\u001b[0m\u001b[0m_prepare_conn\u001b[0m\u001b[0;34m(\u001b[0m\u001b[0mconn\u001b[0m\u001b[0;34m)\u001b[0m\u001b[0;34m\u001b[0m\u001b[0m\n",
      "\u001b[0;32m~/anaconda3/envs/py36/lib/python3.6/site-packages/urllib3/connection.py\u001b[0m in \u001b[0;36m_new_conn\u001b[0;34m(self)\u001b[0m\n\u001b[1;32m    179\u001b[0m             raise NewConnectionError(\n\u001b[0;32m--> 180\u001b[0;31m                 self, \"Failed to establish a new connection: %s\" % e)\n\u001b[0m\u001b[1;32m    181\u001b[0m \u001b[0;34m\u001b[0m\u001b[0m\n",
      "\u001b[0;31mNewConnectionError\u001b[0m: <urllib3.connection.HTTPConnection object at 0x11c882d68>: Failed to establish a new connection: [Errno 8] nodename nor servname provided, or not known",
      "\nDuring handling of the above exception, another exception occurred:\n",
      "\u001b[0;31mMaxRetryError\u001b[0m                             Traceback (most recent call last)",
      "\u001b[0;32m~/anaconda3/envs/py36/lib/python3.6/site-packages/requests/adapters.py\u001b[0m in \u001b[0;36msend\u001b[0;34m(self, request, stream, timeout, verify, cert, proxies)\u001b[0m\n\u001b[1;32m    444\u001b[0m                     \u001b[0mretries\u001b[0m\u001b[0;34m=\u001b[0m\u001b[0mself\u001b[0m\u001b[0;34m.\u001b[0m\u001b[0mmax_retries\u001b[0m\u001b[0;34m,\u001b[0m\u001b[0;34m\u001b[0m\u001b[0m\n\u001b[0;32m--> 445\u001b[0;31m                     \u001b[0mtimeout\u001b[0m\u001b[0;34m=\u001b[0m\u001b[0mtimeout\u001b[0m\u001b[0;34m\u001b[0m\u001b[0m\n\u001b[0m\u001b[1;32m    446\u001b[0m                 )\n",
      "\u001b[0;32m~/anaconda3/envs/py36/lib/python3.6/site-packages/urllib3/connectionpool.py\u001b[0m in \u001b[0;36murlopen\u001b[0;34m(self, method, url, body, headers, retries, redirect, assert_same_host, timeout, pool_timeout, release_conn, chunked, body_pos, **response_kw)\u001b[0m\n\u001b[1;32m    637\u001b[0m             retries = retries.increment(method, url, error=e, _pool=self,\n\u001b[0;32m--> 638\u001b[0;31m                                         _stacktrace=sys.exc_info()[2])\n\u001b[0m\u001b[1;32m    639\u001b[0m             \u001b[0mretries\u001b[0m\u001b[0;34m.\u001b[0m\u001b[0msleep\u001b[0m\u001b[0;34m(\u001b[0m\u001b[0;34m)\u001b[0m\u001b[0;34m\u001b[0m\u001b[0m\n",
      "\u001b[0;32m~/anaconda3/envs/py36/lib/python3.6/site-packages/urllib3/util/retry.py\u001b[0m in \u001b[0;36mincrement\u001b[0;34m(self, method, url, response, error, _pool, _stacktrace)\u001b[0m\n\u001b[1;32m    397\u001b[0m         \u001b[0;32mif\u001b[0m \u001b[0mnew_retry\u001b[0m\u001b[0;34m.\u001b[0m\u001b[0mis_exhausted\u001b[0m\u001b[0;34m(\u001b[0m\u001b[0;34m)\u001b[0m\u001b[0;34m:\u001b[0m\u001b[0;34m\u001b[0m\u001b[0m\n\u001b[0;32m--> 398\u001b[0;31m             \u001b[0;32mraise\u001b[0m \u001b[0mMaxRetryError\u001b[0m\u001b[0;34m(\u001b[0m\u001b[0m_pool\u001b[0m\u001b[0;34m,\u001b[0m \u001b[0murl\u001b[0m\u001b[0;34m,\u001b[0m \u001b[0merror\u001b[0m \u001b[0;32mor\u001b[0m \u001b[0mResponseError\u001b[0m\u001b[0;34m(\u001b[0m\u001b[0mcause\u001b[0m\u001b[0;34m)\u001b[0m\u001b[0;34m)\u001b[0m\u001b[0;34m\u001b[0m\u001b[0m\n\u001b[0m\u001b[1;32m    399\u001b[0m \u001b[0;34m\u001b[0m\u001b[0m\n",
      "\u001b[0;31mMaxRetryError\u001b[0m: HTTPConnectionPool(host='http', port=80): Max retries exceeded with url: //http://http://http://http://http://http://http://http:///modules/file/icons/application-pdf.png (Caused by NewConnectionError('<urllib3.connection.HTTPConnection object at 0x11c882d68>: Failed to establish a new connection: [Errno 8] nodename nor servname provided, or not known',))",
      "\nDuring handling of the above exception, another exception occurred:\n",
      "\u001b[0;31mConnectionError\u001b[0m                           Traceback (most recent call last)",
      "\u001b[0;32m<ipython-input-72-7a5a743cc4f2>\u001b[0m in \u001b[0;36m<module>\u001b[0;34m()\u001b[0m\n\u001b[1;32m      3\u001b[0m \u001b[0mfiltered_ids\u001b[0m \u001b[0;34m=\u001b[0m \u001b[0;34m[\u001b[0m\u001b[0;34m]\u001b[0m\u001b[0;34m\u001b[0m\u001b[0m\n\u001b[1;32m      4\u001b[0m \u001b[0;32mfor\u001b[0m \u001b[0mi\u001b[0m\u001b[0;34m,\u001b[0m \u001b[0murl\u001b[0m \u001b[0;32min\u001b[0m \u001b[0menumerate\u001b[0m\u001b[0;34m(\u001b[0m\u001b[0mall_image_url\u001b[0m\u001b[0;34m)\u001b[0m\u001b[0;34m:\u001b[0m\u001b[0;34m\u001b[0m\u001b[0m\n\u001b[0;32m----> 5\u001b[0;31m     \u001b[0;32mif\u001b[0m \u001b[0;34m(\u001b[0m\u001b[0mexists\u001b[0m\u001b[0;34m(\u001b[0m\u001b[0mstr\u001b[0m\u001b[0;34m(\u001b[0m\u001b[0murl\u001b[0m\u001b[0;34m)\u001b[0m\u001b[0;34m)\u001b[0m\u001b[0;34m)\u001b[0m\u001b[0;34m:\u001b[0m\u001b[0;34m\u001b[0m\u001b[0m\n\u001b[0m\u001b[1;32m      6\u001b[0m         \u001b[0mprint\u001b[0m\u001b[0;34m(\u001b[0m\u001b[0murl\u001b[0m\u001b[0;34m)\u001b[0m\u001b[0;34m\u001b[0m\u001b[0m\n\u001b[1;32m      7\u001b[0m         \u001b[0mfiltered_ids\u001b[0m\u001b[0;34m.\u001b[0m\u001b[0mappend\u001b[0m\u001b[0;34m(\u001b[0m\u001b[0mall_uuid\u001b[0m\u001b[0;34m[\u001b[0m\u001b[0mi\u001b[0m\u001b[0;34m]\u001b[0m\u001b[0;34m)\u001b[0m\u001b[0;34m\u001b[0m\u001b[0m\n",
      "\u001b[0;32m<ipython-input-54-1dae5f18db23>\u001b[0m in \u001b[0;36mexists\u001b[0;34m(path)\u001b[0m\n\u001b[1;32m      2\u001b[0m \u001b[0;34m\u001b[0m\u001b[0m\n\u001b[1;32m      3\u001b[0m \u001b[0;32mdef\u001b[0m \u001b[0mexists\u001b[0m\u001b[0;34m(\u001b[0m\u001b[0mpath\u001b[0m\u001b[0;34m)\u001b[0m\u001b[0;34m:\u001b[0m\u001b[0;34m\u001b[0m\u001b[0m\n\u001b[0;32m----> 4\u001b[0;31m     \u001b[0mr\u001b[0m \u001b[0;34m=\u001b[0m \u001b[0mrequests\u001b[0m\u001b[0;34m.\u001b[0m\u001b[0mhead\u001b[0m\u001b[0;34m(\u001b[0m\u001b[0mpath\u001b[0m\u001b[0;34m)\u001b[0m\u001b[0;34m\u001b[0m\u001b[0m\n\u001b[0m\u001b[1;32m      5\u001b[0m     \u001b[0;32mreturn\u001b[0m \u001b[0mr\u001b[0m\u001b[0;34m.\u001b[0m\u001b[0mstatus_code\u001b[0m \u001b[0;34m==\u001b[0m \u001b[0mrequests\u001b[0m\u001b[0;34m.\u001b[0m\u001b[0mcodes\u001b[0m\u001b[0;34m.\u001b[0m\u001b[0mok\u001b[0m\u001b[0;34m\u001b[0m\u001b[0m\n\u001b[1;32m      6\u001b[0m \u001b[0;34m\u001b[0m\u001b[0m\n",
      "\u001b[0;32m~/anaconda3/envs/py36/lib/python3.6/site-packages/requests/api.py\u001b[0m in \u001b[0;36mhead\u001b[0;34m(url, **kwargs)\u001b[0m\n\u001b[1;32m     96\u001b[0m \u001b[0;34m\u001b[0m\u001b[0m\n\u001b[1;32m     97\u001b[0m     \u001b[0mkwargs\u001b[0m\u001b[0;34m.\u001b[0m\u001b[0msetdefault\u001b[0m\u001b[0;34m(\u001b[0m\u001b[0;34m'allow_redirects'\u001b[0m\u001b[0;34m,\u001b[0m \u001b[0;32mFalse\u001b[0m\u001b[0;34m)\u001b[0m\u001b[0;34m\u001b[0m\u001b[0m\n\u001b[0;32m---> 98\u001b[0;31m     \u001b[0;32mreturn\u001b[0m \u001b[0mrequest\u001b[0m\u001b[0;34m(\u001b[0m\u001b[0;34m'head'\u001b[0m\u001b[0;34m,\u001b[0m \u001b[0murl\u001b[0m\u001b[0;34m,\u001b[0m \u001b[0;34m**\u001b[0m\u001b[0mkwargs\u001b[0m\u001b[0;34m)\u001b[0m\u001b[0;34m\u001b[0m\u001b[0m\n\u001b[0m\u001b[1;32m     99\u001b[0m \u001b[0;34m\u001b[0m\u001b[0m\n\u001b[1;32m    100\u001b[0m \u001b[0;34m\u001b[0m\u001b[0m\n",
      "\u001b[0;32m~/anaconda3/envs/py36/lib/python3.6/site-packages/requests/api.py\u001b[0m in \u001b[0;36mrequest\u001b[0;34m(method, url, **kwargs)\u001b[0m\n\u001b[1;32m     56\u001b[0m     \u001b[0;31m# cases, and look like a memory leak in others.\u001b[0m\u001b[0;34m\u001b[0m\u001b[0;34m\u001b[0m\u001b[0m\n\u001b[1;32m     57\u001b[0m     \u001b[0;32mwith\u001b[0m \u001b[0msessions\u001b[0m\u001b[0;34m.\u001b[0m\u001b[0mSession\u001b[0m\u001b[0;34m(\u001b[0m\u001b[0;34m)\u001b[0m \u001b[0;32mas\u001b[0m \u001b[0msession\u001b[0m\u001b[0;34m:\u001b[0m\u001b[0;34m\u001b[0m\u001b[0m\n\u001b[0;32m---> 58\u001b[0;31m         \u001b[0;32mreturn\u001b[0m \u001b[0msession\u001b[0m\u001b[0;34m.\u001b[0m\u001b[0mrequest\u001b[0m\u001b[0;34m(\u001b[0m\u001b[0mmethod\u001b[0m\u001b[0;34m=\u001b[0m\u001b[0mmethod\u001b[0m\u001b[0;34m,\u001b[0m \u001b[0murl\u001b[0m\u001b[0;34m=\u001b[0m\u001b[0murl\u001b[0m\u001b[0;34m,\u001b[0m \u001b[0;34m**\u001b[0m\u001b[0mkwargs\u001b[0m\u001b[0;34m)\u001b[0m\u001b[0;34m\u001b[0m\u001b[0m\n\u001b[0m\u001b[1;32m     59\u001b[0m \u001b[0;34m\u001b[0m\u001b[0m\n\u001b[1;32m     60\u001b[0m \u001b[0;34m\u001b[0m\u001b[0m\n",
      "\u001b[0;32m~/anaconda3/envs/py36/lib/python3.6/site-packages/requests/sessions.py\u001b[0m in \u001b[0;36mrequest\u001b[0;34m(self, method, url, params, data, headers, cookies, files, auth, timeout, allow_redirects, proxies, hooks, stream, verify, cert, json)\u001b[0m\n\u001b[1;32m    510\u001b[0m         }\n\u001b[1;32m    511\u001b[0m         \u001b[0msend_kwargs\u001b[0m\u001b[0;34m.\u001b[0m\u001b[0mupdate\u001b[0m\u001b[0;34m(\u001b[0m\u001b[0msettings\u001b[0m\u001b[0;34m)\u001b[0m\u001b[0;34m\u001b[0m\u001b[0m\n\u001b[0;32m--> 512\u001b[0;31m         \u001b[0mresp\u001b[0m \u001b[0;34m=\u001b[0m \u001b[0mself\u001b[0m\u001b[0;34m.\u001b[0m\u001b[0msend\u001b[0m\u001b[0;34m(\u001b[0m\u001b[0mprep\u001b[0m\u001b[0;34m,\u001b[0m \u001b[0;34m**\u001b[0m\u001b[0msend_kwargs\u001b[0m\u001b[0;34m)\u001b[0m\u001b[0;34m\u001b[0m\u001b[0m\n\u001b[0m\u001b[1;32m    513\u001b[0m \u001b[0;34m\u001b[0m\u001b[0m\n\u001b[1;32m    514\u001b[0m         \u001b[0;32mreturn\u001b[0m \u001b[0mresp\u001b[0m\u001b[0;34m\u001b[0m\u001b[0m\n",
      "\u001b[0;32m~/anaconda3/envs/py36/lib/python3.6/site-packages/requests/sessions.py\u001b[0m in \u001b[0;36msend\u001b[0;34m(self, request, **kwargs)\u001b[0m\n\u001b[1;32m    620\u001b[0m \u001b[0;34m\u001b[0m\u001b[0m\n\u001b[1;32m    621\u001b[0m         \u001b[0;31m# Send the request\u001b[0m\u001b[0;34m\u001b[0m\u001b[0;34m\u001b[0m\u001b[0m\n\u001b[0;32m--> 622\u001b[0;31m         \u001b[0mr\u001b[0m \u001b[0;34m=\u001b[0m \u001b[0madapter\u001b[0m\u001b[0;34m.\u001b[0m\u001b[0msend\u001b[0m\u001b[0;34m(\u001b[0m\u001b[0mrequest\u001b[0m\u001b[0;34m,\u001b[0m \u001b[0;34m**\u001b[0m\u001b[0mkwargs\u001b[0m\u001b[0;34m)\u001b[0m\u001b[0;34m\u001b[0m\u001b[0m\n\u001b[0m\u001b[1;32m    623\u001b[0m \u001b[0;34m\u001b[0m\u001b[0m\n\u001b[1;32m    624\u001b[0m         \u001b[0;31m# Total elapsed time of the request (approximately)\u001b[0m\u001b[0;34m\u001b[0m\u001b[0;34m\u001b[0m\u001b[0m\n",
      "\u001b[0;32m~/anaconda3/envs/py36/lib/python3.6/site-packages/requests/adapters.py\u001b[0m in \u001b[0;36msend\u001b[0;34m(self, request, stream, timeout, verify, cert, proxies)\u001b[0m\n\u001b[1;32m    511\u001b[0m                 \u001b[0;32mraise\u001b[0m \u001b[0mSSLError\u001b[0m\u001b[0;34m(\u001b[0m\u001b[0me\u001b[0m\u001b[0;34m,\u001b[0m \u001b[0mrequest\u001b[0m\u001b[0;34m=\u001b[0m\u001b[0mrequest\u001b[0m\u001b[0;34m)\u001b[0m\u001b[0;34m\u001b[0m\u001b[0m\n\u001b[1;32m    512\u001b[0m \u001b[0;34m\u001b[0m\u001b[0m\n\u001b[0;32m--> 513\u001b[0;31m             \u001b[0;32mraise\u001b[0m \u001b[0mConnectionError\u001b[0m\u001b[0;34m(\u001b[0m\u001b[0me\u001b[0m\u001b[0;34m,\u001b[0m \u001b[0mrequest\u001b[0m\u001b[0;34m=\u001b[0m\u001b[0mrequest\u001b[0m\u001b[0;34m)\u001b[0m\u001b[0;34m\u001b[0m\u001b[0m\n\u001b[0m\u001b[1;32m    514\u001b[0m \u001b[0;34m\u001b[0m\u001b[0m\n\u001b[1;32m    515\u001b[0m         \u001b[0;32mexcept\u001b[0m \u001b[0mClosedPoolError\u001b[0m \u001b[0;32mas\u001b[0m \u001b[0me\u001b[0m\u001b[0;34m:\u001b[0m\u001b[0;34m\u001b[0m\u001b[0m\n",
      "\u001b[0;31mConnectionError\u001b[0m: HTTPConnectionPool(host='http', port=80): Max retries exceeded with url: //http://http://http://http://http://http://http://http:///modules/file/icons/application-pdf.png (Caused by NewConnectionError('<urllib3.connection.HTTPConnection object at 0x11c882d68>: Failed to establish a new connection: [Errno 8] nodename nor servname provided, or not known',))"
     ]
    }
   ],
   "source": [
    "all_uuid = df.index.tolist()\n",
    "all_image_url = df['main_img_url'].tolist()\n",
    "filtered_ids = []\n",
    "for i, url in enumerate(all_image_url):\n",
    "    if (exists(str(url))):\n",
    "        print(url)\n",
    "        filtered_ids.append(all_uuid[i])"
   ]
  },
  {
   "cell_type": "code",
   "execution_count": 73,
   "metadata": {},
   "outputs": [
    {
     "data": {
      "text/plain": [
       "475"
      ]
     },
     "execution_count": 73,
     "metadata": {},
     "output_type": "execute_result"
    }
   ],
   "source": [
    "len(filtered_ids)"
   ]
  },
  {
   "cell_type": "code",
   "execution_count": 74,
   "metadata": {},
   "outputs": [],
   "source": [
    "import pickle\n",
    "filename = 'filtered_ids.pkl'\n",
    "with open(filename, 'wb') as f:\n",
    "    pickle.dump([filtered_ids], f)"
   ]
  },
  {
   "cell_type": "code",
   "execution_count": 75,
   "metadata": {},
   "outputs": [],
   "source": [
    "filtered_df = df.loc[filtered_ids]"
   ]
  },
  {
   "cell_type": "code",
   "execution_count": 76,
   "metadata": {},
   "outputs": [],
   "source": [
    "filtered_df.to_csv('filtered_fake.csv')"
   ]
  },
  {
   "cell_type": "code",
   "execution_count": 77,
   "metadata": {},
   "outputs": [],
   "source": [
    "filtered_df = pd.read_csv('filtered_fake.csv', index_col='uuid', dtype = {'title': str, 'text': str, 'main_img_url': str})"
   ]
  },
  {
   "cell_type": "code",
   "execution_count": 78,
   "metadata": {},
   "outputs": [
    {
     "data": {
      "text/plain": [
       "475"
      ]
     },
     "execution_count": 78,
     "metadata": {},
     "output_type": "execute_result"
    }
   ],
   "source": [
    "len(filtered_df)"
   ]
  },
  {
   "cell_type": "code",
   "execution_count": null,
   "metadata": {},
   "outputs": [],
   "source": []
  }
 ],
 "metadata": {
  "kernelspec": {
   "display_name": "Python (py36)",
   "language": "python",
   "name": "py36"
  },
  "language_info": {
   "codemirror_mode": {
    "name": "ipython",
    "version": 3
   },
   "file_extension": ".py",
   "mimetype": "text/x-python",
   "name": "python",
   "nbconvert_exporter": "python",
   "pygments_lexer": "ipython3",
   "version": "3.6.6"
  }
 },
 "nbformat": 4,
 "nbformat_minor": 2
}
